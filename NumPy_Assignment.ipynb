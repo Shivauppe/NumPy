{
  "nbformat": 4,
  "nbformat_minor": 0,
  "metadata": {
    "colab": {
      "provenance": [],
      "authorship_tag": "ABX9TyN9WT3yXVZ5lHIVOJWbukGo",
      "include_colab_link": true
    },
    "kernelspec": {
      "name": "python3",
      "display_name": "Python 3"
    },
    "language_info": {
      "name": "python"
    }
  },
  "cells": [
    {
      "cell_type": "markdown",
      "metadata": {
        "id": "view-in-github",
        "colab_type": "text"
      },
      "source": [
        "<a href=\"https://colab.research.google.com/github/Shivauppe/NumPy/blob/main/NumPy_Assignment.ipynb\" target=\"_parent\"><img src=\"https://colab.research.google.com/assets/colab-badge.svg\" alt=\"Open In Colab\"/></a>"
      ]
    },
    {
      "cell_type": "markdown",
      "source": [
        "### **Explain the purpose and advantage of NumPy in Scientific computing and data analysis , how does it enhance Python capabilities for numerical operations**"
      ],
      "metadata": {
        "id": "Wuroq86egOW7"
      }
    },
    {
      "cell_type": "markdown",
      "source": [
        "**NumPy**, short for Numerical Python, is a powerful library in Python specifically designed for scientific computing and data analysis. Its primary purpose is to enable efficient handling and processing of large arrays and matrices of numerical data. Here’s a breakdown of its core purpose, key features, and advantages in enhancing Python's numerical computing capabilities:\n",
        "\n",
        "**Purpose of NumPy** in Scientific Computing and Data Analysis\n",
        "Efficient Array Operations: NumPy provides the ndarray object, which represents multi-dimensional arrays and matrices. This is the core structure around which most of its functionality revolves, allowing for fast and efficient operations on large datasets.\n",
        "\n",
        "**Mathematical Functions:** It includes an extensive set of mathematical functions and operations specifically optimized for array processing, which are essential in fields like physics, engineering, and machine learning.\n",
        "Linear Algebra, Fourier Transforms, and Random Number Generation: NumPy also provides specialized modules for linear algebra operations, Fourier analysis, and random number generation, which are often necessary in scientific applications.\n",
        "\n",
        "**Interfacing with Other Libraries:** Many libraries in the Python scientific stack, such as SciPy, Pandas, and Matplotlib, build on or rely on NumPy arrays, making it the foundational library in Python’s scientific ecosystem.\n",
        "Advantages of Using NumPy\n",
        "Performance Optimization: NumPy’s core operations are implemented in C, which is much faster for numerical computations than standard Python lists. NumPy uses vectorization, which applies operations to entire arrays instead of looping through elements, leading to substantial speedups in computations.\n",
        "\n",
        "**Memory Efficiency**: Unlike Python lists, which are dynamically typed, NumPy arrays have a fixed data type and are more memory-efficient. This efficiency is crucial when dealing with large datasets, as it reduces the overall memory footprint.\n",
        "\n",
        "**Broad Array Operations:** With NumPy, users can perform complex array operations like element-wise arithmetic, broadcasting (applying operations on arrays of different shapes), and indexing, which are difficult to handle efficiently in pure Python.\n",
        "\n",
        "**Vectorized Operations:** By eliminating explicit Python loops, NumPy’s vectorized operations make code cleaner, more readable, and faster. For example, mathematical operations can be directly applied across an entire array without requiring loops, which reduces computational time and simplifies code.\n",
        "\n",
        "Easy Integration with Other Languages: NumPy arrays can be easily converted to/from arrays in languages like C and Fortran, which are widely used in high-performance computing. This interoperability is crucial for using Python in fields that traditionally relied on lower-level languages for computational efficiency.\n",
        "\n",
        "Enhancing Python for Numerical Operations:\n",
        "\n",
        "In summary, NumPy transforms Python from a general-purpose language into a powerful tool for scientific and data analysis. Its capabilities enable researchers and data scientists to work with large datasets more efficiently, making it foundational for any numerical work in Python."
      ],
      "metadata": {
        "id": "00uqk4PSgSzv"
      }
    },
    {
      "cell_type": "markdown",
      "source": [
        "### **Compare and contrast np.mean() and np.average() functions in numpy when would you use one over the other?**"
      ],
      "metadata": {
        "id": "i2ZBVkpggWnn"
      }
    },
    {
      "cell_type": "markdown",
      "source": [
        "**np.mean()** and **np.average()** are NumPy functions used to calculate the central tendency of data, but they serve slightly different purposes and offer different functionalities.\n",
        "Here’s a detailed comparison and contrast of the two, along with guidance on when to use each:\n",
        "\n",
        "**np.mean():**\n",
        "\n",
        "**Purpose:** Computes the simple arithmetic mean of the elements along a specified axis.\n",
        "Usage: np.mean(array, axis=None, dtype=None, out=None, keepdims=False)\n",
        "Weighted Calculations: np.mean() does not support weighted calculations; it only calculates the plain mean (i.e., each element is given equal weight).\n",
        "Performance: Since it only calculates a simple average, it’s typically faster and less complex."
      ],
      "metadata": {
        "id": "nWZDXwT2hFlP"
      }
    },
    {
      "cell_type": "code",
      "source": [
        "import numpy as np\n",
        "data = np.array([1, 2, 3, 4, 5])\n",
        "np.mean(data)\n"
      ],
      "metadata": {
        "colab": {
          "base_uri": "https://localhost:8080/"
        },
        "id": "2Z5jv38ohXkd",
        "outputId": "8c870403-6e16-4293-8368-a0acf1252df7"
      },
      "execution_count": null,
      "outputs": [
        {
          "output_type": "execute_result",
          "data": {
            "text/plain": [
              "3.0"
            ]
          },
          "metadata": {},
          "execution_count": 1
        }
      ]
    },
    {
      "cell_type": "markdown",
      "source": [
        "**np.average()**\n",
        "\n",
        "**Purpose:** Computes the weighted average if weights are provided; otherwise, it behaves similarly to np.mean().\n",
        "\n",
        "**Usage:** np.average(array, axis=None, weights=None, returned=False)\n",
        "Weighted Calculations: The key feature of np.average() is its ability to calculate a weighted average when the weights parameter is specified. This allows you to give different elements different levels of importance in the average calculation.\n",
        "\n",
        "**Return Weights:** It has an optional returned parameter, which, if set to True, will return a tuple with the calculated average and the sum of the weights. This can be useful for further calculations or error-checking."
      ],
      "metadata": {
        "id": "Fe2deG37hfjE"
      }
    },
    {
      "cell_type": "code",
      "source": [
        "import numpy as np\n",
        "data = np.array([1, 2, 3, 4, 5])\n",
        "weights = np.array([1, 2, 1, 1, 5])\n",
        "np.average(data, weights=weights)\n"
      ],
      "metadata": {
        "colab": {
          "base_uri": "https://localhost:8080/"
        },
        "id": "arPrE3Q1hhVZ",
        "outputId": "8955123a-8818-4c00-b79c-4591c68787d6"
      },
      "execution_count": null,
      "outputs": [
        {
          "output_type": "execute_result",
          "data": {
            "text/plain": [
              "3.7"
            ]
          },
          "metadata": {},
          "execution_count": 2
        }
      ]
    },
    {
      "cell_type": "markdown",
      "source": [
        "**When to Use Each Function**\n",
        "\n",
        "**Use np.mean():** When you want the plain arithmetic mean of an array or along an axis, especially when weights are irrelevant.\n",
        "\n",
        "**Use np.average():** When you need to calculate a weighted average. For example, in cases where certain data points have more significance than others (like averaging scores where some assessments have higher importance)."
      ],
      "metadata": {
        "id": "5K0OQ6BPhvcy"
      }
    },
    {
      "cell_type": "markdown",
      "source": [
        "### **Describe the methods for reversing a NumPy array along different axes. Provide a example for 1d 2d arrays**"
      ],
      "metadata": {
        "id": "bEwUp87QjGm6"
      }
    },
    {
      "cell_type": "markdown",
      "source": [
        "Reversing a NumPy array can be done easily using slicing and specific NumPy functions to reverse the array along different axes. Here’s how to reverse a 1D and 2D array along various axes:\n",
        "\n",
        "1. Reversing a 1D Array\n",
        "For a 1D array, reversing means flipping the order of elements from the last to the first.\n",
        "\n",
        "Method: Using Slicing\n",
        "You can reverse a 1D array by slicing it with [::-1], which steps through the array from the end to the beginning."
      ],
      "metadata": {
        "id": "qdTXYtlIjLOy"
      }
    },
    {
      "cell_type": "code",
      "source": [
        "import numpy as np\n",
        "\n",
        "# 1D Array\n",
        "arr1d = np.array([1, 2, 3, 4, 5])\n",
        "reversed_arr1d = arr1d[::-1]\n",
        "print(\"Original 1D Array:\", arr1d)\n",
        "print(\"Reversed 1D Array:\", reversed_arr1d)\n"
      ],
      "metadata": {
        "colab": {
          "base_uri": "https://localhost:8080/"
        },
        "id": "-xZoYA9TjP3K",
        "outputId": "68920945-4db5-493b-8b13-d81ff6623e64"
      },
      "execution_count": null,
      "outputs": [
        {
          "output_type": "stream",
          "name": "stdout",
          "text": [
            "Original 1D Array: [1 2 3 4 5]\n",
            "Reversed 1D Array: [5 4 3 2 1]\n"
          ]
        }
      ]
    },
    {
      "cell_type": "markdown",
      "source": [
        "2. Reversing a 2D Array\n",
        "\n",
        "In a 2D array, you have the option to reverse along:\n",
        "\n",
        "Rows (axis 0): Flip the rows in reverse order.\n",
        "Columns (axis 1): Flip the columns in reverse order.\n",
        "Entire Array: Reverse both rows and columns.\n",
        "\n",
        "Method: Using Slicing\n",
        "Reverse along rows (axis 0): array[::-1, :]\n",
        "Reverse along columns (axis 1): array[:, ::-1]\n",
        "Reverse entire array: array[::-1, ::-1]"
      ],
      "metadata": {
        "id": "xr4pg84VjYHJ"
      }
    },
    {
      "cell_type": "code",
      "source": [
        "# 2D Array\n",
        "arr2d = np.array([[1, 2, 3],\n",
        "                  [4, 5, 6],\n",
        "                  [7, 8, 9]])\n",
        "\n",
        "# Reverse along rows (axis 0)\n",
        "reversed_rows = arr2d[::-1, :]\n",
        "print(\"Reversed Rows:\\n\", reversed_rows)\n",
        "\n",
        "# Reverse along columns (axis 1)\n",
        "reversed_columns = arr2d[:, ::-1]\n",
        "print(\"Reversed Columns:\\n\", reversed_columns)\n",
        "\n",
        "# Reverse entire array\n",
        "reversed_entire = arr2d[::-1, ::-1]\n",
        "print(\"Reversed Entire Array:\\n\", reversed_entire)\n"
      ],
      "metadata": {
        "colab": {
          "base_uri": "https://localhost:8080/"
        },
        "id": "_48ZBn9ujaUv",
        "outputId": "ddc41ee9-6fde-4a50-e62d-a73e3f4eb086"
      },
      "execution_count": null,
      "outputs": [
        {
          "output_type": "stream",
          "name": "stdout",
          "text": [
            "Reversed Rows:\n",
            " [[7 8 9]\n",
            " [4 5 6]\n",
            " [1 2 3]]\n",
            "Reversed Columns:\n",
            " [[3 2 1]\n",
            " [6 5 4]\n",
            " [9 8 7]]\n",
            "Reversed Entire Array:\n",
            " [[9 8 7]\n",
            " [6 5 4]\n",
            " [3 2 1]]\n"
          ]
        }
      ]
    },
    {
      "cell_type": "markdown",
      "source": [
        "Alternative: Using np.flip()\n",
        "NumPy’s np.flip() function can also be used for reversing along specified axes:\n",
        "\n",
        "np.flip(arr, axis=0): Reverses rows (axis 0).\n",
        "np.flip(arr, axis=1): Reverses columns (axis 1).\n",
        "np.flip(arr): Reverses both rows and columns."
      ],
      "metadata": {
        "id": "4e6VW3erjsBz"
      }
    },
    {
      "cell_type": "code",
      "source": [
        "# Reverse rows using np.flip\n",
        "reversed_rows_flip = np.flip(arr2d, axis=0)\n",
        "print(\"Reversed Rows using np.flip:\\n\", reversed_rows_flip)\n",
        "\n",
        "# Reverse columns using np.flip\n",
        "reversed_columns_flip = np.flip(arr2d, axis=1)\n",
        "print(\"Reversed Columns using np.flip:\\n\", reversed_columns_flip)\n",
        "\n",
        "# Reverse entire array using np.flip\n",
        "reversed_entire_flip = np.flip(arr2d)\n",
        "print(\"Reversed Entire Array using np.flip:\\n\", reversed_entire_flip)\n"
      ],
      "metadata": {
        "colab": {
          "base_uri": "https://localhost:8080/"
        },
        "id": "_PKXXiqijv2f",
        "outputId": "e81f59e5-8d8a-48cf-a96a-d35e7a12be8b"
      },
      "execution_count": null,
      "outputs": [
        {
          "output_type": "stream",
          "name": "stdout",
          "text": [
            "Reversed Rows using np.flip:\n",
            " [[7 8 9]\n",
            " [4 5 6]\n",
            " [1 2 3]]\n",
            "Reversed Columns using np.flip:\n",
            " [[3 2 1]\n",
            " [6 5 4]\n",
            " [9 8 7]]\n",
            "Reversed Entire Array using np.flip:\n",
            " [[9 8 7]\n",
            " [6 5 4]\n",
            " [3 2 1]]\n"
          ]
        }
      ]
    },
    {
      "cell_type": "markdown",
      "source": [
        "### **How can you determine the data types of a elements in a numPy array? Disscuss the importance of data types in memoray management and performance**"
      ],
      "metadata": {
        "id": "Xw_ztn7-kzAX"
      }
    },
    {
      "cell_type": "markdown",
      "source": [
        "In NumPy, you can determine the data type of elements in an array using the .dtype attribute, which provides information about the type of data stored in the array. Here’s a closer look at how to check data types in NumPy and why managing data types is crucial for memory efficiency and computational performance.\n",
        "\n",
        "Determining the Data Type of Elements in a NumPy Array\n",
        "Using .dtype Attribute\n",
        "\n",
        "The .dtype attribute of a NumPy array returns the data type of the elements in the array."
      ],
      "metadata": {
        "id": "rT8nPZmgk2Pb"
      }
    },
    {
      "cell_type": "code",
      "source": [
        "import numpy as np\n",
        "arr = np.array([1, 2, 3])\n",
        "print(arr.dtype)  # Output: int64 (or int32 depending on the system)\n"
      ],
      "metadata": {
        "colab": {
          "base_uri": "https://localhost:8080/"
        },
        "id": "jBdOLrOKlAi4",
        "outputId": "85fc5c16-f327-4656-8a6c-bb3235eabdb5"
      },
      "execution_count": null,
      "outputs": [
        {
          "output_type": "stream",
          "name": "stdout",
          "text": [
            "int64\n"
          ]
        }
      ]
    },
    {
      "cell_type": "markdown",
      "source": [
        "Specifying Data Type When Creating an Array\n",
        "\n",
        "You can specify the data type explicitly when creating a NumPy array using the dtype parameter, which helps in memory optimization."
      ],
      "metadata": {
        "id": "UvcZ5-YClJ87"
      }
    },
    {
      "cell_type": "code",
      "source": [
        "arr_float = np.array([1, 2, 3], dtype=np.float32)\n",
        "print(arr_float.dtype)"
      ],
      "metadata": {
        "colab": {
          "base_uri": "https://localhost:8080/"
        },
        "id": "GzQAMBfvlLBU",
        "outputId": "2d3ae408-2da5-4059-b46a-e1ea438ea085"
      },
      "execution_count": null,
      "outputs": [
        {
          "output_type": "stream",
          "name": "stdout",
          "text": [
            "float32\n"
          ]
        }
      ]
    },
    {
      "cell_type": "markdown",
      "source": [
        "Using np.array().astype() for Type Conversion\n",
        "\n",
        "The .astype() method can convert an array to a specified data type, which can help in cases where you need a particular precision or memory optimization."
      ],
      "metadata": {
        "id": "57UAE7AYlQ8Y"
      }
    },
    {
      "cell_type": "code",
      "source": [
        "arr_int = arr_float.astype(np.int32)\n",
        "print(arr_int.dtype)  # Output: int32\n"
      ],
      "metadata": {
        "colab": {
          "base_uri": "https://localhost:8080/"
        },
        "id": "5INlbFEtlUjg",
        "outputId": "a8d914ca-2235-4e95-eeb3-6a66b0296abc"
      },
      "execution_count": null,
      "outputs": [
        {
          "output_type": "stream",
          "name": "stdout",
          "text": [
            "int32\n"
          ]
        }
      ]
    },
    {
      "cell_type": "markdown",
      "source": [
        "Importance of Data Types in Memory Management and Performance\n",
        "Memory Efficiency\n",
        "\n",
        "Data Type and Size: Different data types use different amounts of memory. For example, int32 uses 4 bytes per element, whereas int64 uses 8 bytes. By choosing the appropriate data type, you can reduce memory usage, which is essential when working with large datasets.\n",
        "Impact of Precision: Using a larger data type than necessary wastes memory. For instance, if a dataset contains only small integers, storing it in int8 or int16 rather than int64 can save a significant amount of memory."
      ],
      "metadata": {
        "id": "N7zk06T-la_t"
      }
    },
    {
      "cell_type": "markdown",
      "source": [
        "### **Define ndarrays in numPy and explain their key features how do they differ from the standard python lists**"
      ],
      "metadata": {
        "id": "DiINYUnGpF6s"
      }
    },
    {
      "cell_type": "markdown",
      "source": [
        "In NumPy, an ndarray (short for N-dimensional array) is the core data structure used for representing multi-dimensional, homogeneous data arrays. Unlike standard Python lists, which are flexible but less efficient for numerical computations, ndarrays are specifically optimized for handling large volumes of numerical data in scientific computing.\n",
        "\n",
        "**Key Features of ndarrays**\n",
        "\n",
        "Homogeneous Data Type:\n",
        "\n",
        "Every element in an ndarray has the same data type (e.g., int32, float64), which allows for more efficient memory management and faster computations.\n",
        "Multi-dimensional:\n",
        "\n",
        "ndarrays can represent data in multiple dimensions (1D, 2D, 3D, etc.), making it easy to work with complex datasets like matrices and higher-dimensional tensors.\n",
        "Fixed Size:\n",
        "\n",
        "The size of an ndarray is fixed when created, meaning that the number of elements cannot be changed (though the shape can be altered, if compatible).\n",
        "Memory Efficiency:\n",
        "\n",
        "ndarrays store data in contiguous memory blocks, which improves data access speed and minimizes memory overhead, especially with large datasets.\n",
        "Supports Vectorized Operations:\n",
        "\n",
        "ndarrays allow vectorized operations, meaning that mathematical operations can be applied to entire arrays at once without explicit loops. This is faster than iterating through elements individually, as you would with a list.\n",
        "Advanced Indexing and Slicing:\n",
        "\n",
        "ndarrays support complex slicing and indexing, which lets users efficiently select, modify, or transform specific parts of the array without needing additional data copies.\n",
        "Broadcasting:\n",
        "\n",
        "Broadcasting allows operations between arrays of different shapes by \"stretching\" smaller arrays to match the shape of larger ones when possible, avoiding explicit looping and simplifying mathematical operations.\n",
        "Mathematical and Statistical Functions:\n",
        "\n",
        "NumPy provides a large suite of mathematical functions optimized for ndarrays, allowing easy calculations of mean, median, standard deviation, and other operations.\n"
      ],
      "metadata": {
        "id": "YBF4rqTbpKlM"
      }
    },
    {
      "cell_type": "code",
      "source": [
        "import numpy as np\n",
        "\n",
        "# Creating a 2D ndarray (matrix)\n",
        "array_2d = np.array([[1, 2, 3], [4, 5, 6]])\n",
        "print(array_2d)\n",
        "print(\"Shape:\", array_2d.shape)\n",
        "print(\"Data type:\", array_2d.dtype)\n"
      ],
      "metadata": {
        "colab": {
          "base_uri": "https://localhost:8080/"
        },
        "id": "55PDnRkqpW4a",
        "outputId": "daac00c2-ab98-413d-a58d-09e0561a061c"
      },
      "execution_count": null,
      "outputs": [
        {
          "output_type": "stream",
          "name": "stdout",
          "text": [
            "[[1 2 3]\n",
            " [4 5 6]]\n",
            "Shape: (2, 3)\n",
            "Data type: int64\n"
          ]
        }
      ]
    },
    {
      "cell_type": "markdown",
      "source": [
        "**Why Use ndarrays Over Python Lists?**\n",
        "\n",
        "For data-intensive applications, ndarrays offer substantial advantages in terms of speed, memory efficiency, and ease of use. By choosing ndarrays, you benefit from optimized, pre-built numerical operations, efficient memory layout, and sophisticated manipulation capabilities, all of which are critical in scientific computing and data analysis."
      ],
      "metadata": {
        "id": "TleaPJ8fpw1i"
      }
    },
    {
      "cell_type": "markdown",
      "source": [
        "### **Analyze the performance benefits of numpy arrays over Python lists for large scale numerical operations**"
      ],
      "metadata": {
        "id": "YCGEND10qr5p"
      }
    },
    {
      "cell_type": "markdown",
      "source": [
        "NumPy arrays (ndarrays) offer significant performance benefits over Python lists for large-scale numerical operations. These benefits stem from several underlying optimizations that make ndarrays more efficient for handling large volumes of numerical data. Here’s a breakdown of the key performance benefits and why they make NumPy arrays superior for large-scale numerical tasks:\n",
        "\n",
        "1. Contiguous Memory Layout and Cache Efficiency\n",
        "NumPy arrays store elements in contiguous blocks of memory, which makes them more cache-friendly. This layout allows faster access to elements since the CPU can retrieve subsequent data points in bulk rather than making individual memory calls.\n",
        "In contrast, Python lists store references to objects, which can be scattered across memory, resulting in slower access times as the system must locate each object.\n",
        "\n",
        "2. Fixed Data Type (Homogeneity)\n",
        "Each element in a NumPy array has the same data type, meaning NumPy arrays don’t need to store type information with each element. This makes it possible to allocate memory more efficiently and access data without checking type compatibility on every operation.\n",
        "Python lists are heterogeneous (they can store different types of data within a single list), so each element has associated metadata, increasing memory consumption and slowing down operations that involve large numbers of elements.\n",
        "\n",
        "3. Reduced Memory Overhead\n",
        "\n",
        "NumPy arrays are more memory-efficient. For example, a float64 NumPy array only uses 8 bytes per element, while a Python list storing floats will require significantly more memory per element because it stores both the object reference and the data.\n",
        "This reduced memory footprint is particularly valuable for large datasets, where saving memory directly translates into faster computation and the ability to work with larger datasets.\n",
        "\n",
        "4. Vectorized Operations (Avoiding Loops)\n",
        "\n",
        "NumPy supports vectorized operations, meaning operations can be performed on entire arrays at once without the need for explicit loops. This approach leverages low-level, optimized C implementations behind the scenes, resulting in significant speed improvements.\n",
        "In contrast, Python lists require explicit looping to apply operations on each element, which can be much slower due to the interpreted nature of Python and the overhead of repeatedly calling functions."
      ],
      "metadata": {
        "id": "-A7mpwJnrDs-"
      }
    },
    {
      "cell_type": "code",
      "source": [
        "import numpy as np\n",
        "\n",
        "# NumPy array\n",
        "arr_np = np.array([1, 2, 3, 4, 5])\n",
        "arr_np = arr_np * 2  # Vectorized multiplication: no loop needed\n",
        "\n",
        "# Python list\n",
        "arr_list = [1, 2, 3, 4, 5]\n",
        "arr_list = [x * 2 for x in arr_list]  # Explicit loop required\n"
      ],
      "metadata": {
        "id": "bQvG3DcUrhf4"
      },
      "execution_count": null,
      "outputs": []
    },
    {
      "cell_type": "markdown",
      "source": [
        "5. Broadcasting\n",
        "\n",
        "Broadcasting allows NumPy to perform operations on arrays of different shapes by \"stretching\" the smaller array to match the shape of the larger one. This avoids the need for extra memory allocation and complex looping logic.\n",
        "Python lists don’t support broadcasting; you need to use explicit loops to adjust and align data structures for operations, leading to slower and more cumbersome code."
      ],
      "metadata": {
        "id": "73H7CxFVroWh"
      }
    },
    {
      "cell_type": "code",
      "source": [
        "# Broadcasting in NumPy\n",
        "arr = np.array([1, 2, 3])\n",
        "arr_broadcasted = arr + 10  # Adds 10 to each element without a loop\n",
        "\n",
        "# No broadcasting for Python lists\n",
        "arr_list = [1, 2, 3]\n",
        "arr_broadcasted_list = [x + 10 for x in arr_list]  # Loop required\n"
      ],
      "metadata": {
        "id": "Ah4Uq6GIrqVC"
      },
      "execution_count": null,
      "outputs": []
    },
    {
      "cell_type": "markdown",
      "source": [
        " Example of Performance Comparison: NumPy Arrays vs. Python Lists"
      ],
      "metadata": {
        "id": "EwH_9jWervV3"
      }
    },
    {
      "cell_type": "code",
      "source": [
        "import numpy as np\n",
        "import time\n",
        "\n",
        "# Creating a large NumPy array and a large Python list\n",
        "size = 10**6\n",
        "arr_np = np.arange(size)\n",
        "arr_list = list(range(size))\n",
        "\n",
        "# Timing NumPy array operation\n",
        "start_time = time.time()\n",
        "result_np = arr_np * 2  # Vectorized operation\n",
        "end_time = time.time()\n",
        "print(\"NumPy array time:\", end_time - start_time)\n",
        "\n",
        "# Timing Python list operation\n",
        "start_time = time.time()\n",
        "result_list = [x * 2 for x in arr_list]  # Loop-based operation\n",
        "end_time = time.time()\n",
        "print(\"Python list time:\", end_time - start_time)\n"
      ],
      "metadata": {
        "colab": {
          "base_uri": "https://localhost:8080/"
        },
        "id": "ge_i2HSWrxX7",
        "outputId": "b9b4b9a9-9451-48e4-8d17-32e6d06a7718"
      },
      "execution_count": null,
      "outputs": [
        {
          "output_type": "stream",
          "name": "stdout",
          "text": [
            "NumPy array time: 0.008945226669311523\n",
            "Python list time: 0.17708325386047363\n"
          ]
        }
      ]
    },
    {
      "cell_type": "markdown",
      "source": [
        "In conclusion, for large-scale numerical operations, NumPy arrays vastly outperform Python lists in both speed and memory efficiency due to contiguous memory storage, homogeneous data types, vectorized operations, and low-level optimizations. This is why NumPy is the preferred choice for scientific computing, data analysis, and machine learning tasks in Python."
      ],
      "metadata": {
        "id": "RM0ZMb9er_xT"
      }
    },
    {
      "cell_type": "markdown",
      "source": [
        "### **Compare vstack() hstack() functions in numpy.Provide examples demonstrating their usuage and output**"
      ],
      "metadata": {
        "id": "zuC3cAf_s5ta"
      }
    },
    {
      "cell_type": "markdown",
      "source": [
        "The vstack() and hstack() functions in NumPy are used to stack arrays vertically and horizontally, respectively. Here’s a breakdown of each function, along with examples to demonstrate their usage and outputs."
      ],
      "metadata": {
        "id": "24kRRGbVtE3M"
      }
    },
    {
      "cell_type": "markdown",
      "source": [
        "np.vstack()\n",
        "\n",
        "Purpose: Stacks arrays in sequence vertically (row-wise).\n",
        "\n",
        "Usage: np.vstack((array1, array2, ...))\n",
        "\n",
        "Requirements: The arrays must have the same number of columns (i.e., matching the second dimension)."
      ],
      "metadata": {
        "id": "4OP6B8rItJu4"
      }
    },
    {
      "cell_type": "code",
      "source": [
        "import numpy as np\n",
        "\n",
        "# Two 1D arrays\n",
        "arr1 = np.array([1, 2, 3])\n",
        "arr2 = np.array([4, 5, 6])\n",
        "\n",
        "# Using vstack to stack them vertically\n",
        "result = np.vstack((arr1, arr2))\n",
        "print(\"Result of vstack:\\n\", result)\n"
      ],
      "metadata": {
        "colab": {
          "base_uri": "https://localhost:8080/"
        },
        "id": "fzXERhMRtMBd",
        "outputId": "2ed00b45-5694-4d26-f80f-c0608736d9a1"
      },
      "execution_count": null,
      "outputs": [
        {
          "output_type": "stream",
          "name": "stdout",
          "text": [
            "Result of vstack:\n",
            " [[1 2 3]\n",
            " [4 5 6]]\n"
          ]
        }
      ]
    },
    {
      "cell_type": "code",
      "source": [
        "# Two 2D arrays\n",
        "arr3 = np.array([[1, 2, 3], [4, 5, 6]])\n",
        "arr4 = np.array([[7, 8, 9], [10, 11, 12]])\n",
        "\n",
        "# Using vstack to stack them vertically\n",
        "result_2d = np.vstack((arr3, arr4))\n",
        "print(\"Result of vstack (2D arrays):\\n\", result_2d)\n"
      ],
      "metadata": {
        "colab": {
          "base_uri": "https://localhost:8080/"
        },
        "id": "dMS_60yFtSyj",
        "outputId": "9ed79c67-abcd-49d9-83f3-075a80930c3d"
      },
      "execution_count": null,
      "outputs": [
        {
          "output_type": "stream",
          "name": "stdout",
          "text": [
            "Result of vstack (2D arrays):\n",
            " [[ 1  2  3]\n",
            " [ 4  5  6]\n",
            " [ 7  8  9]\n",
            " [10 11 12]]\n"
          ]
        }
      ]
    },
    {
      "cell_type": "markdown",
      "source": [
        "np.hstack()\n",
        "\n",
        "Purpose: Stacks arrays in sequence horizontally (column-wise).\n",
        "\n",
        "Usage: np.hstack((array1, array2, ...))\n",
        "\n",
        "Requirements: The arrays must have the same number of rows (i.e., matching the first dimension)."
      ],
      "metadata": {
        "id": "H0KCkJ8ptZsv"
      }
    },
    {
      "cell_type": "code",
      "source": [
        "# Two 1D arrays\n",
        "arr1 = np.array([1, 2, 3])\n",
        "arr2 = np.array([4, 5, 6])\n",
        "\n",
        "# Using hstack to stack them horizontally\n",
        "result = np.hstack((arr1, arr2))\n",
        "print(\"Result of hstack:\\n\", result)\n"
      ],
      "metadata": {
        "colab": {
          "base_uri": "https://localhost:8080/"
        },
        "id": "Bxyf4CK8tiIN",
        "outputId": "7971cdba-22be-493d-9d9f-d5a915ee310f"
      },
      "execution_count": null,
      "outputs": [
        {
          "output_type": "stream",
          "name": "stdout",
          "text": [
            "Result of hstack:\n",
            " [1 2 3 4 5 6]\n"
          ]
        }
      ]
    },
    {
      "cell_type": "code",
      "source": [
        "# Two 2D arrays\n",
        "arr3 = np.array([[1, 2, 3], [4, 5, 6]])\n",
        "arr4 = np.array([[7, 8, 9], [10, 11, 12]])\n",
        "\n",
        "# Using hstack to stack them horizontally\n",
        "result_2d = np.hstack((arr3, arr4))\n",
        "print(\"Result of hstack (2D arrays):\\n\", result_2d)\n"
      ],
      "metadata": {
        "colab": {
          "base_uri": "https://localhost:8080/"
        },
        "id": "J1WD1rh7tlER",
        "outputId": "8e722544-fdbb-47f0-8ac9-45fa7aec8c83"
      },
      "execution_count": null,
      "outputs": [
        {
          "output_type": "stream",
          "name": "stdout",
          "text": [
            "Result of hstack (2D arrays):\n",
            " [[ 1  2  3  7  8  9]\n",
            " [ 4  5  6 10 11 12]]\n"
          ]
        }
      ]
    },
    {
      "cell_type": "markdown",
      "source": [
        "Use vstack() when you want to add rows, and hstack() when you want to add columns. These functions simplify array manipulations, particularly when working with multi-dimensional data."
      ],
      "metadata": {
        "id": "wZ5rh0vctq_L"
      }
    },
    {
      "cell_type": "markdown",
      "source": [
        "### **Explain the diff between fliplr() and flipud() methods in numpy, including their effects on various array dimensions**"
      ],
      "metadata": {
        "id": "ASb73Cs7ugik"
      }
    },
    {
      "cell_type": "markdown",
      "source": [
        "In NumPy, the fliplr and flipud functions are used to flip arrays along different axes:\n",
        "\n",
        "fliplr (Flip Left to Right): This function flips the array in the left-to-right (horizontal) direction, meaning it reverses the order of columns.\n",
        "flipud (Flip Up to Down): This function flips the array in the up-to-down (vertical) direction, meaning it reverses the order of rows.\n",
        "These functions work specifically on 2D (or higher-dimensional) arrays but behave differently depending on the array dimensions.\n",
        "\n",
        "np.fliplr()\n",
        "Purpose: Flips the array horizontally, reversing the order of columns.\n",
        "Usage: np.fliplr(array)\n",
        "Requirements: The array must have at least 2 dimensions (it does not affect 1D arrays).\n",
        "\n"
      ],
      "metadata": {
        "id": "QFxOEYfmuryf"
      }
    },
    {
      "cell_type": "code",
      "source": [
        "import numpy as np\n",
        "\n",
        "# 2D Array\n",
        "arr = np.array([[1, 2, 3],\n",
        "                [4, 5, 6],\n",
        "                [7, 8, 9]])\n",
        "\n",
        "# Using fliplr to flip horizontally (left to right)\n",
        "result_fliplr = np.fliplr(arr)\n",
        "print(\"Original Array:\\n\", arr)\n",
        "print(\"Array after fliplr:\\n\", result_fliplr)\n"
      ],
      "metadata": {
        "colab": {
          "base_uri": "https://localhost:8080/"
        },
        "id": "R2P6myaKu2K4",
        "outputId": "1e2bfcd4-8b37-44c7-903a-111d2bb5023d"
      },
      "execution_count": null,
      "outputs": [
        {
          "output_type": "stream",
          "name": "stdout",
          "text": [
            "Original Array:\n",
            " [[1 2 3]\n",
            " [4 5 6]\n",
            " [7 8 9]]\n",
            "Array after fliplr:\n",
            " [[3 2 1]\n",
            " [6 5 4]\n",
            " [9 8 7]]\n"
          ]
        }
      ]
    },
    {
      "cell_type": "markdown",
      "source": [
        "np.flipud()\n",
        "\n",
        "Purpose: Flips the array vertically, reversing the order of rows.\n",
        "\n",
        "Usage: np.flipud(array)\n",
        "\n",
        "Requirements: The array must have at least 2 dimensions (it does not affect 1D arrays).\n"
      ],
      "metadata": {
        "id": "sz_zdGmZu8Nz"
      }
    },
    {
      "cell_type": "code",
      "source": [
        "# Using flipud to flip vertically (up to down)\n",
        "result_flipud = np.flipud(arr)\n",
        "print(\"Original Array:\\n\", arr)\n",
        "print(\"Array after flipud:\\n\", result_flipud)\n"
      ],
      "metadata": {
        "colab": {
          "base_uri": "https://localhost:8080/"
        },
        "id": "l2UW_VfIvAIS",
        "outputId": "dc4ab73f-7b83-4220-9faa-2bb6b50400fe"
      },
      "execution_count": null,
      "outputs": [
        {
          "output_type": "stream",
          "name": "stdout",
          "text": [
            "Original Array:\n",
            " [[1 2 3]\n",
            " [4 5 6]\n",
            " [7 8 9]]\n",
            "Array after flipud:\n",
            " [[7 8 9]\n",
            " [4 5 6]\n",
            " [1 2 3]]\n"
          ]
        }
      ]
    },
    {
      "cell_type": "markdown",
      "source": [
        "Effects on Arrays of Different Dimensions\n",
        "\n",
        "1D Arrays: Neither fliplr nor flipud will affect a 1D array because these functions expect at least 2D input. If you attempt to use them on a 1D array, they will raise an error."
      ],
      "metadata": {
        "id": "skZxmgWEvFaQ"
      }
    },
    {
      "cell_type": "code",
      "source": [
        "arr_1d = np.array([1, 2, 3])\n",
        "# np.fliplr(arr_1d) -> Raises an error\n",
        "# np.flipud(arr_1d) -> Raises an error\n"
      ],
      "metadata": {
        "id": "t-ErEUxgvHei"
      },
      "execution_count": null,
      "outputs": []
    },
    {
      "cell_type": "markdown",
      "source": [
        "2D Arrays:\n",
        "\n",
        "fliplr reverses the columns, changing the left-to-right order in each row.\n",
        "flipud reverses the rows, changing the up-to-down order of rows.\n",
        "3D Arrays (or Higher):\n",
        "\n",
        "fliplr and flipud will treat each 2D sub-array independently. For example, if you have a 3D array, fliplr will reverse the columns within each 2D matrix along the last axis, while flipud will reverse the rows along the second-to-last axis."
      ],
      "metadata": {
        "id": "tSAw_SuJvPjP"
      }
    },
    {
      "cell_type": "code",
      "source": [
        "arr_3d = np.array([[[1, 2, 3], [4, 5, 6]],\n",
        "                   [[7, 8, 9], [10, 11, 12]]])\n",
        "\n",
        "print(\"Original 3D Array:\\n\", arr_3d)\n",
        "print(\"After fliplr:\\n\", np.fliplr(arr_3d))\n",
        "print(\"After flipud:\\n\", np.flipud(arr_3d))\n"
      ],
      "metadata": {
        "colab": {
          "base_uri": "https://localhost:8080/"
        },
        "id": "Xa0bIPTlvUEC",
        "outputId": "208f209e-b0d0-4e3e-92cb-5e82d767f59b"
      },
      "execution_count": null,
      "outputs": [
        {
          "output_type": "stream",
          "name": "stdout",
          "text": [
            "Original 3D Array:\n",
            " [[[ 1  2  3]\n",
            "  [ 4  5  6]]\n",
            "\n",
            " [[ 7  8  9]\n",
            "  [10 11 12]]]\n",
            "After fliplr:\n",
            " [[[ 4  5  6]\n",
            "  [ 1  2  3]]\n",
            "\n",
            " [[10 11 12]\n",
            "  [ 7  8  9]]]\n",
            "After flipud:\n",
            " [[[ 7  8  9]\n",
            "  [10 11 12]]\n",
            "\n",
            " [[ 1  2  3]\n",
            "  [ 4  5  6]]]\n"
          ]
        }
      ]
    },
    {
      "cell_type": "markdown",
      "source": [
        "### **Discuss the functionality of array_split() method in NumPy.How does it handle uneven splits**"
      ],
      "metadata": {
        "id": "FVE1C4-T4Jvs"
      }
    },
    {
      "cell_type": "markdown",
      "source": [
        "In NumPy, the array_split() function is used to split an array into multiple sub-arrays along a specified axis. This method is flexible and can handle cases where the array cannot be evenly split, making it particularly useful when you need to split arrays into chunks of varying sizes.\n",
        "\n",
        "array_split() Functionality\n",
        "Syntax: np.array_split(array, indices_or_sections, axis=0)\n",
        "Parameters:\n",
        "array: The array to be split.\n",
        "indices_or_sections: Specifies the number of sections to split the array into or a list of indices where splits should occur.\n",
        "axis: The axis along which to split the array (default is 0, i.e., split along rows).\n",
        "Key Features of array_split()\n",
        "Flexible Splitting:\n",
        "\n",
        "If indices_or_sections is an integer, array_split() splits the array into that many sections. If the array size isn’t evenly divisible, the last chunks will have fewer elements.\n",
        "If indices_or_sections is a list of indices, array_split() splits the array at the specified indices, creating sub-arrays based on those splits.\n",
        "Handles Uneven Splits:\n",
        "\n",
        "Unlike np.split(), which requires the array to be split into equal parts, array_split() can handle cases where the array size is not a multiple of indices_or_sections. If the array cannot be divided evenly, it distributes elements as evenly as possible, with earlier sub-arrays having more elements if needed.\n",
        "Examples of array_split() Usage"
      ],
      "metadata": {
        "id": "9mLT-A5N--yw"
      }
    },
    {
      "cell_type": "code",
      "source": [
        "# Syntax: np.array_split(array, indices_or_sections, axis=0)\n",
        "\n",
        "# array: The array to be split.\n",
        "# indices_or_sections: Specifies the number of sections to split the array into or a list of indices where splits should occur.\n",
        "# axis: The axis along which to split the array (default is 0, i.e., split along rows)."
      ],
      "metadata": {
        "id": "XBuQhuuh_DLe"
      },
      "execution_count": null,
      "outputs": []
    },
    {
      "cell_type": "markdown",
      "source": [
        "Key Features of array_split()\n",
        "Flexible Splitting:\n",
        "\n",
        "If indices_or_sections is an integer, array_split() splits the array into that many sections. If the array size isn’t evenly divisible, the last chunks will have fewer elements.\n",
        "If indices_or_sections is a list of indices, array_split() splits the array at the specified indices, creating sub-arrays based on those splits.\n",
        "Handles Uneven Splits:\n",
        "\n",
        "Unlike np.split(), which requires the array to be split into equal parts, array_split() can handle cases where the array size is not a multiple of indices_or_sections. If the array cannot be divided evenly, it distributes elements as evenly as possible, with earlier sub-arrays having more elements if needed."
      ],
      "metadata": {
        "id": "BwHX6q9zcl8s"
      }
    },
    {
      "cell_type": "code",
      "source": [
        "import numpy as np\n",
        "\n",
        "# 1D Array\n",
        "arr = np.array([1, 2, 3, 4, 5, 6, 7])\n",
        "\n",
        "# Splitting into 3 sections (7 elements cannot be divided evenly into 3 parts)\n",
        "result = np.array_split(arr, 3)\n",
        "print(\"Result of array_split with uneven split:\\n\", result)\n"
      ],
      "metadata": {
        "colab": {
          "base_uri": "https://localhost:8080/"
        },
        "id": "iWcjWulOcoVV",
        "outputId": "80ad482a-e8f0-45d5-db7e-4d49bcc12f9c"
      },
      "execution_count": 1,
      "outputs": [
        {
          "output_type": "stream",
          "name": "stdout",
          "text": [
            "Result of array_split with uneven split:\n",
            " [array([1, 2, 3]), array([4, 5]), array([6, 7])]\n"
          ]
        }
      ]
    },
    {
      "cell_type": "code",
      "source": [
        "# 2D Array\n",
        "arr_2d = np.array([[1, 2, 3],\n",
        "                   [4, 5, 6],\n",
        "                   [7, 8, 9],\n",
        "                   [10, 11, 12]])\n",
        "\n",
        "# Splitting into 3 sections along rows\n",
        "result_2d = np.array_split(arr_2d, 3, axis=0)\n",
        "print(\"Result of array_split along rows:\\n\", result_2d)\n"
      ],
      "metadata": {
        "colab": {
          "base_uri": "https://localhost:8080/"
        },
        "id": "V4zwpDTocqv4",
        "outputId": "662de411-fea3-4026-9148-45fe7812551b"
      },
      "execution_count": 2,
      "outputs": [
        {
          "output_type": "stream",
          "name": "stdout",
          "text": [
            "Result of array_split along rows:\n",
            " [array([[1, 2, 3],\n",
            "       [4, 5, 6]]), array([[7, 8, 9]]), array([[10, 11, 12]])]\n"
          ]
        }
      ]
    },
    {
      "cell_type": "code",
      "source": [
        "# 2D Array\n",
        "arr_2d = np.array([[1, 2, 3, 4],\n",
        "                   [5, 6, 7, 8]])\n",
        "\n",
        "# Splitting into 3 sections along columns\n",
        "result_2d_columns = np.array_split(arr_2d, 3, axis=1)\n",
        "print(\"Result of array_split along columns:\\n\", result_2d_columns)\n"
      ],
      "metadata": {
        "colab": {
          "base_uri": "https://localhost:8080/"
        },
        "id": "wra-c9smctuV",
        "outputId": "741fb139-5b90-47a1-ca61-23ae70032201"
      },
      "execution_count": 3,
      "outputs": [
        {
          "output_type": "stream",
          "name": "stdout",
          "text": [
            "Result of array_split along columns:\n",
            " [array([[1, 2],\n",
            "       [5, 6]]), array([[3],\n",
            "       [7]]), array([[4],\n",
            "       [8]])]\n"
          ]
        }
      ]
    },
    {
      "cell_type": "markdown",
      "source": [
        "The array_split() method is ideal for splitting arrays flexibly, especially when the array’s size does not allow for equal splits."
      ],
      "metadata": {
        "id": "bVM05AbKcxq1"
      }
    },
    {
      "cell_type": "markdown",
      "source": [
        "### **Explain the concept of vectorization and broadcasting in NumPy.How do they contribute to the efficifient array operator?**\n"
      ],
      "metadata": {
        "id": "eOT-7JrFdHA5"
      }
    },
    {
      "cell_type": "markdown",
      "source": [
        "1. Vectorization\n",
        "\n",
        "Definition:\n",
        "Vectorization is the process of performing operations on entire arrays (or vectors) at once, rather than element by element. This approach uses low-level implementations in optimized C and Fortran libraries, enabling much faster execution than if we used Python loops.\n",
        "\n",
        "How it Works:\n",
        "In a vectorized operation, a single operation is applied to every element in an array without the need for explicit iteration. This is achieved by leveraging underlying SIMD (Single Instruction, Multiple Data) capabilities of modern CPUs, allowing multiple operations to be performed in parallel.\n",
        "\n",
        "Advantages:\n",
        "\n",
        "Speed: Operations are done directly in compiled code, avoiding the overhead of Python loops.\n",
        "\n",
        "Code Simplicity: Vectorized code is usually more readable, concise, and less error-prone."
      ],
      "metadata": {
        "id": "thf9HhxCdWWE"
      }
    },
    {
      "cell_type": "code",
      "source": [
        "import numpy as np\n",
        "\n",
        "# Creating two large arrays\n",
        "arr1 = np.array([1, 2, 3, 4, 5])\n",
        "arr2 = np.array([10, 20, 30, 40, 50])\n",
        "\n",
        "# Vectorized addition\n",
        "result = arr1 + arr2  # Adds element-wise without loops\n",
        "print(\"Result of vectorized addition:\", result)\n"
      ],
      "metadata": {
        "colab": {
          "base_uri": "https://localhost:8080/"
        },
        "id": "gRgJ9hrfdbnQ",
        "outputId": "367a6521-b286-4dd8-bc0a-2a17e8642da6"
      },
      "execution_count": 4,
      "outputs": [
        {
          "output_type": "stream",
          "name": "stdout",
          "text": [
            "Result of vectorized addition: [11 22 33 44 55]\n"
          ]
        }
      ]
    },
    {
      "cell_type": "markdown",
      "source": [
        "2. Broadcasting\n",
        "\n",
        "Definition:\n",
        "\n",
        "Broadcasting is a mechanism that allows NumPy to perform operations on arrays of different shapes in a way that would otherwise be incompatible. When two arrays of different shapes are operated on, NumPy attempts to \"stretch\" or \"broadcast\" the smaller array to match the shape of the larger one.\n",
        "\n",
        "How it Works:\n",
        " Broadcasting works by virtually expanding the smaller array along the dimensions required, without physically copying data, so that it matches the shape of the larger array. This allows for element-wise operations to be performed seamlessly.\n",
        "\n",
        "Conditions for Broadcasting:\n",
        "\n",
        "If the arrays have different numbers of dimensions, prepend 1s to the shape of the smaller array until both arrays have the same number of dimensions.\n",
        "Two dimensions are compatible for broadcasting if they are equal or if one of them is 1.\n",
        "\n",
        "If both arrays can match shapes using these rules, broadcasting occurs.\n",
        "Advantages:\n",
        "\n",
        "Memory Efficiency:\n",
        "\n",
        "No additional memory is used for the smaller array, as broadcasting only conceptually expands it.\n",
        "Speed: It avoids the need for manual looping and allows NumPy to perform the operation using optimized code."
      ],
      "metadata": {
        "id": "7V76uomWdpSC"
      }
    },
    {
      "cell_type": "code",
      "source": [
        "arr1 = np.array([[1, 2, 3], [4, 5, 6]])  # Shape (2, 3)\n",
        "arr2 = np.array([10, 20, 30])            # Shape (3,)\n",
        "\n",
        "# Broadcasting in action\n",
        "result = arr1 + arr2\n",
        "print(\"Result of broadcasting addition:\\n\", result)\n"
      ],
      "metadata": {
        "colab": {
          "base_uri": "https://localhost:8080/"
        },
        "id": "z7n88CGUdxJU",
        "outputId": "8514b5af-6ca0-413d-ac32-94b9738d6fa8"
      },
      "execution_count": 5,
      "outputs": [
        {
          "output_type": "stream",
          "name": "stdout",
          "text": [
            "Result of broadcasting addition:\n",
            " [[11 22 33]\n",
            " [14 25 36]]\n"
          ]
        }
      ]
    },
    {
      "cell_type": "markdown",
      "source": [
        "How Vectorization and Broadcasting Contribute to Efficient Array Operations\n",
        "Eliminate Explicit Loops: Vectorization and broadcasting remove the need for explicit loops in Python, which are slower due to Python’s interpreter overhead. This directly improves performance, especially for large arrays.\n",
        "\n",
        "Leverage Optimized Libraries: Both vectorization and broadcasting allow NumPy to use optimized C/Fortran routines that are much faster than equivalent operations performed in pure Python.\n",
        "\n",
        "Reduce Memory Usage: Broadcasting avoids duplicating data, allowing operations to be performed without increasing memory usage, even when arrays of different shapes are involved.\n",
        "\n",
        "Enable Parallel Processing: Vectorized operations take advantage of the CPU’s ability to perform multiple operations simultaneously (SIMD), further enhancing performance."
      ],
      "metadata": {
        "id": "fFCri_ccd1cU"
      }
    },
    {
      "cell_type": "code",
      "source": [
        "# Summary Example\n",
        "\n",
        "# Here’s an example that combines vectorization and broadcasting to perform complex calculations efficiently.\n",
        "\n",
        "arr1 = np.array([1, 2, 3])   # Shape (3,)\n",
        "arr2 = np.array([[10], [20], [30]])  # Shape (3, 1)\n",
        "\n",
        "# Broadcasting allows addition across mismatched dimensions\n",
        "result = arr1 + arr2  # Broadcasts arr1 across arr2\n",
        "print(\"Result of broadcasting and vectorized addition:\\n\", result)\n"
      ],
      "metadata": {
        "colab": {
          "base_uri": "https://localhost:8080/"
        },
        "id": "RheiaK69d7ZI",
        "outputId": "3477e230-4b7a-46ed-8263-3756da072455"
      },
      "execution_count": 6,
      "outputs": [
        {
          "output_type": "stream",
          "name": "stdout",
          "text": [
            "Result of broadcasting and vectorized addition:\n",
            " [[11 12 13]\n",
            " [21 22 23]\n",
            " [31 32 33]]\n"
          ]
        }
      ]
    },
    {
      "cell_type": "markdown",
      "source": [
        "Here, arr1 (shape (3,)) is broadcast across arr2 (shape (3,1)) so they can be added together, with vectorized addition applying across the entire array efficiently.\n",
        "\n",
        "Conclusion\n",
        "\n",
        "Vectorization and broadcasting are key to NumPy’s efficiency in handling array operations. They allow for faster, more memory-efficient, and concise code, making NumPy a powerful tool for scientific computing, data analysis, and machine learning applications."
      ],
      "metadata": {
        "id": "mvOlJJiBeK7F"
      }
    },
    {
      "cell_type": "markdown",
      "source": [
        "### **==============================================================**"
      ],
      "metadata": {
        "id": "rCduLqLpenvf"
      }
    },
    {
      "cell_type": "markdown",
      "source": [
        "### **===========Practical Questions====================**"
      ],
      "metadata": {
        "id": "GN9TztkEer7z"
      }
    },
    {
      "cell_type": "code",
      "source": [
        "# Create a 3*3 NumPy array with random integers between 1 and 100, then interchange its rows and columns\n",
        "\n",
        "import numpy as np\n",
        "\n",
        "# Create a 3x3 array with random integers between 1 and 100\n",
        "array = np.random.randint(1, 101, size=(3, 3))\n",
        "print(\"Original Array:\\n\", array)\n",
        "\n",
        "# Interchange rows and columns by transposing the array\n",
        "transposed_array = array.T\n",
        "print(\"Transposed Array:\\n\", transposed_array)\n"
      ],
      "metadata": {
        "colab": {
          "base_uri": "https://localhost:8080/"
        },
        "id": "K4msT1aCfqkE",
        "outputId": "7406b37c-e671-4274-9cf3-c5dda490260f"
      },
      "execution_count": 8,
      "outputs": [
        {
          "output_type": "stream",
          "name": "stdout",
          "text": [
            "Original Array:\n",
            " [[22 24 37]\n",
            " [18 55 86]\n",
            " [ 7 84 22]]\n",
            "Transposed Array:\n",
            " [[22 18  7]\n",
            " [24 55 84]\n",
            " [37 86 22]]\n"
          ]
        }
      ]
    },
    {
      "cell_type": "code",
      "source": [
        "# #Generate a 1D NumPy array with 10 elements . Reshape it into 2 * 5 array, then into 5 * 2 array\n",
        "\n",
        "import numpy as np\n",
        "\n",
        "# Generate a 1D array with 10 elements\n",
        "array_1d = np.arange(10)\n",
        "print(\"Original 1D Array:\\n\", array_1d)\n",
        "\n",
        "# Reshape it into a 2x5 array\n",
        "array_2x5 = array_1d.reshape(2, 5)\n",
        "print(\"\\nReshaped into 2x5 Array:\\n\", array_2x5)\n",
        "\n",
        "# Reshape it into a 5x2 array\n",
        "array_5x2 = array_2x5.reshape(5, 2)\n",
        "print(\"\\nReshaped into 5x2 Array:\\n\", array_5x2)\n",
        "\n",
        "\n",
        "# Explanation\n",
        "# np.arange(10): Creates a 1D array with 10 elements from 0 to 9.\n",
        "# array_1d.reshape(2, 5): Reshapes the array into a 2x5 shape.\n",
        "# array_2x5.reshape(5, 2): Further reshapes the array into a 5x2 shape."
      ],
      "metadata": {
        "colab": {
          "base_uri": "https://localhost:8080/"
        },
        "id": "ZVVzBzh-gRn3",
        "outputId": "d3193732-53d8-4860-a6a0-29b2a5df3067"
      },
      "execution_count": 9,
      "outputs": [
        {
          "output_type": "stream",
          "name": "stdout",
          "text": [
            "Original 1D Array:\n",
            " [0 1 2 3 4 5 6 7 8 9]\n",
            "\n",
            "Reshaped into 2x5 Array:\n",
            " [[0 1 2 3 4]\n",
            " [5 6 7 8 9]]\n",
            "\n",
            "Reshaped into 5x2 Array:\n",
            " [[0 1]\n",
            " [2 3]\n",
            " [4 5]\n",
            " [6 7]\n",
            " [8 9]]\n"
          ]
        }
      ]
    },
    {
      "cell_type": "code",
      "source": [
        "# Create a 4 * 4 NumPy array with random float values. Add a border of zeroes around it, resulting in a 6 * 6 array\n",
        "\n",
        "import numpy as np\n",
        "\n",
        "# Create a 4x4 array with random float values\n",
        "array_4x4 = np.random.rand(4, 4)\n",
        "print(\"Original 4x4 Array:\\n\", array_4x4)\n",
        "\n",
        "# Add a border of zeroes to create a 6x6 array\n",
        "array_6x6 = np.pad(array_4x4, pad_width=1, mode='constant', constant_values=0)\n",
        "print(\"\\n6x6 Array with Zero Border:\\n\", array_6x6)\n",
        "\n",
        "\n",
        "# Explanation\n",
        "# np.random.rand(4, 4): Generates a 4x4 array with random float values between 0 and 1.\n",
        "\n",
        "# np.pad(array_4x4, pad_width=1, mode='constant', constant_values=0): Adds a border of width 1 around the original array, filling it with zeroes.\n",
        "\n",
        "# Example Output\n",
        "# The output will vary because the array values are randomly generated, but it will look like this:\n",
        "\n",
        "# The resulting 6x6 array has a border of zeroes around the original 4x4 array.\n"
      ],
      "metadata": {
        "colab": {
          "base_uri": "https://localhost:8080/"
        },
        "id": "h3QTXKY6g-or",
        "outputId": "5824f283-67b9-4c7b-b18a-e648c6485033"
      },
      "execution_count": 10,
      "outputs": [
        {
          "output_type": "stream",
          "name": "stdout",
          "text": [
            "Original 4x4 Array:\n",
            " [[0.17443927 0.14303244 0.1413225  0.01004002]\n",
            " [0.31740645 0.2453697  0.82212226 0.01083958]\n",
            " [0.58087511 0.70433981 0.80747976 0.57380893]\n",
            " [0.73918965 0.9423672  0.54179403 0.65868331]]\n",
            "\n",
            "6x6 Array with Zero Border:\n",
            " [[0.         0.         0.         0.         0.         0.        ]\n",
            " [0.         0.17443927 0.14303244 0.1413225  0.01004002 0.        ]\n",
            " [0.         0.31740645 0.2453697  0.82212226 0.01083958 0.        ]\n",
            " [0.         0.58087511 0.70433981 0.80747976 0.57380893 0.        ]\n",
            " [0.         0.73918965 0.9423672  0.54179403 0.65868331 0.        ]\n",
            " [0.         0.         0.         0.         0.         0.        ]]\n"
          ]
        }
      ]
    }
  ]
}