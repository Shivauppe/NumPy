{
 "cells": [
  {
   "cell_type": "code",
   "execution_count": 1,
   "id": "318056d4-14d0-450c-963b-65859eabbb56",
   "metadata": {},
   "outputs": [],
   "source": [
    "import numpy as np"
   ]
  },
  {
   "cell_type": "code",
   "execution_count": 55,
   "id": "ab60537b-3010-4000-9375-476d863023a5",
   "metadata": {},
   "outputs": [
    {
     "data": {
      "text/plain": [
       "array([1, 2, 3, 4])"
      ]
     },
     "execution_count": 55,
     "metadata": {},
     "output_type": "execute_result"
    }
   ],
   "source": [
    "arr = np.array([1,2,3,4])\n",
    "arr"
   ]
  },
  {
   "cell_type": "code",
   "execution_count": 56,
   "id": "d37d3223-c9e2-4a87-bba5-87117a6d6155",
   "metadata": {},
   "outputs": [
    {
     "data": {
      "text/plain": [
       "numpy.ndarray"
      ]
     },
     "execution_count": 56,
     "metadata": {},
     "output_type": "execute_result"
    }
   ],
   "source": [
    "type(arr)"
   ]
  },
  {
   "cell_type": "code",
   "execution_count": 57,
   "id": "86b401bc-f8bb-41d4-9869-5be8d505f35e",
   "metadata": {},
   "outputs": [
    {
     "data": {
      "text/plain": [
       "1"
      ]
     },
     "execution_count": 57,
     "metadata": {},
     "output_type": "execute_result"
    }
   ],
   "source": [
    "arr.ndim #n-dimensional - has only rows"
   ]
  },
  {
   "cell_type": "code",
   "execution_count": 27,
   "id": "4b057066-88c3-47aa-83d1-427e253d20a1",
   "metadata": {},
   "outputs": [
    {
     "data": {
      "text/plain": [
       "array([[1, 2, 3],\n",
       "       [4, 5, 6]])"
      ]
     },
     "execution_count": 27,
     "metadata": {},
     "output_type": "execute_result"
    }
   ],
   "source": [
    "arr1 = np.array([[1,2,3],[4,5,6]])\n",
    "arr1"
   ]
  },
  {
   "cell_type": "code",
   "execution_count": 28,
   "id": "0e132e05-3a65-4177-9b8e-31e2be12baa8",
   "metadata": {},
   "outputs": [
    {
     "data": {
      "text/plain": [
       "2"
      ]
     },
     "execution_count": 28,
     "metadata": {},
     "output_type": "execute_result"
    }
   ],
   "source": [
    "arr1.ndim"
   ]
  },
  {
   "cell_type": "code",
   "execution_count": 34,
   "id": "3d9a58a0-a0bc-4580-bc9c-b8d29b0e4fbe",
   "metadata": {},
   "outputs": [
    {
     "data": {
      "text/plain": [
       "matrix([[1, 2, 3, 4]])"
      ]
     },
     "execution_count": 34,
     "metadata": {},
     "output_type": "execute_result"
    }
   ],
   "source": [
    "mat = np.matrix([1,2,3,4]) #numpy.matrix -- Matrix is a specialised 2D array\n",
    "mat"
   ]
  },
  {
   "cell_type": "code",
   "execution_count": 33,
   "id": "8d155761-89eb-453e-9f0c-bb443407cca7",
   "metadata": {},
   "outputs": [
    {
     "data": {
      "text/plain": [
       "numpy.matrix"
      ]
     },
     "execution_count": 33,
     "metadata": {},
     "output_type": "execute_result"
    }
   ],
   "source": [
    "type(mat)"
   ]
  },
  {
   "cell_type": "code",
   "execution_count": 36,
   "id": "f9bed336-1f1e-4099-9c7f-1d8d2475eb17",
   "metadata": {},
   "outputs": [
    {
     "data": {
      "text/plain": [
       "array([[[1, 2],\n",
       "        [3, 4],\n",
       "        [5, 6]]])"
      ]
     },
     "execution_count": 36,
     "metadata": {},
     "output_type": "execute_result"
    }
   ],
   "source": [
    "arr1 = np.array([[[1,2],[3,4],[5,6]]])\n",
    "arr1"
   ]
  },
  {
   "cell_type": "code",
   "execution_count": 37,
   "id": "ce8cb083-7854-4b06-8049-d34347318a5c",
   "metadata": {},
   "outputs": [
    {
     "data": {
      "text/plain": [
       "3"
      ]
     },
     "execution_count": 37,
     "metadata": {},
     "output_type": "execute_result"
    }
   ],
   "source": [
    "arr1.ndim"
   ]
  },
  {
   "cell_type": "code",
   "execution_count": 38,
   "id": "3a45ad09-cee6-4b83-9ba6-7e8d6632ff46",
   "metadata": {},
   "outputs": [
    {
     "data": {
      "text/plain": [
       "[1, 2, 3, 4]"
      ]
     },
     "execution_count": 38,
     "metadata": {},
     "output_type": "execute_result"
    }
   ],
   "source": [
    "#ways to create array\n",
    "#1 using np.array\n",
    "#2 using np.asarray\n",
    "\n",
    "l = [1,2,3,4]\n",
    "l"
   ]
  },
  {
   "cell_type": "code",
   "execution_count": 39,
   "id": "2ec66b83-0fc4-4733-ba92-940292519ea2",
   "metadata": {},
   "outputs": [
    {
     "data": {
      "text/plain": [
       "list"
      ]
     },
     "execution_count": 39,
     "metadata": {},
     "output_type": "execute_result"
    }
   ],
   "source": [
    "type(l)"
   ]
  },
  {
   "cell_type": "code",
   "execution_count": 41,
   "id": "ea6531d9-251a-4d0f-9842-60bbc496040b",
   "metadata": {},
   "outputs": [
    {
     "data": {
      "text/plain": [
       "array([1, 2, 3, 4])"
      ]
     },
     "execution_count": 41,
     "metadata": {},
     "output_type": "execute_result"
    }
   ],
   "source": [
    "arr2 = np.asarray(l)\n",
    "arr2"
   ]
  },
  {
   "cell_type": "code",
   "execution_count": 42,
   "id": "682c4de3-ae4c-4ea4-b687-8183409ac62c",
   "metadata": {},
   "outputs": [
    {
     "data": {
      "text/plain": [
       "numpy.ndarray"
      ]
     },
     "execution_count": 42,
     "metadata": {},
     "output_type": "execute_result"
    }
   ],
   "source": [
    "type(arr2)"
   ]
  },
  {
   "cell_type": "code",
   "execution_count": 43,
   "id": "1942d228-86c9-4926-a20f-555022b72515",
   "metadata": {},
   "outputs": [
    {
     "data": {
      "text/plain": [
       "array([1, 2, 3, 4])"
      ]
     },
     "execution_count": 43,
     "metadata": {},
     "output_type": "execute_result"
    }
   ],
   "source": [
    "#3. asanyarray\n",
    "\n",
    "arr3 = np.asanyarray([1,2,3,4])\n",
    "arr3"
   ]
  },
  {
   "cell_type": "code",
   "execution_count": 44,
   "id": "0a1ed17e-8489-4b18-b6c3-1b7e6ce29cb3",
   "metadata": {},
   "outputs": [
    {
     "data": {
      "text/plain": [
       "numpy.ndarray"
      ]
     },
     "execution_count": 44,
     "metadata": {},
     "output_type": "execute_result"
    }
   ],
   "source": [
    "type(arr3)"
   ]
  },
  {
   "cell_type": "code",
   "execution_count": 45,
   "id": "00376b9c-046a-43f6-ae4b-5bb155ebab40",
   "metadata": {},
   "outputs": [
    {
     "data": {
      "text/plain": [
       "4"
      ]
     },
     "execution_count": 45,
     "metadata": {},
     "output_type": "execute_result"
    }
   ],
   "source": [
    "arr3.size # no.of elements in a array"
   ]
  },
  {
   "cell_type": "code",
   "execution_count": 46,
   "id": "d6e59b68-7e51-409d-8de0-16edbf518712",
   "metadata": {},
   "outputs": [
    {
     "data": {
      "text/plain": [
       "(4,)"
      ]
     },
     "execution_count": 46,
     "metadata": {},
     "output_type": "execute_result"
    }
   ],
   "source": [
    "arr3.shape"
   ]
  },
  {
   "cell_type": "code",
   "execution_count": 47,
   "id": "51892308-40a3-4f77-8ca0-54832be17bca",
   "metadata": {},
   "outputs": [
    {
     "data": {
      "text/plain": [
       "([1, 2, 3], [4, 6, 8])"
      ]
     },
     "execution_count": 47,
     "metadata": {},
     "output_type": "execute_result"
    }
   ],
   "source": [
    "#can tuple be converted into array ? - yes\n",
    "tup = ([1,2,3],[4,6,8])\n",
    "tup"
   ]
  },
  {
   "cell_type": "code",
   "execution_count": 48,
   "id": "1d11153d-cc24-4afc-9b61-6c36b2a5de8a",
   "metadata": {},
   "outputs": [
    {
     "data": {
      "text/plain": [
       "tuple"
      ]
     },
     "execution_count": 48,
     "metadata": {},
     "output_type": "execute_result"
    }
   ],
   "source": [
    "type(tup)"
   ]
  },
  {
   "cell_type": "code",
   "execution_count": 50,
   "id": "5cc22b80-e773-490f-9661-3097df5760f0",
   "metadata": {},
   "outputs": [
    {
     "data": {
      "text/plain": [
       "array([[1, 2, 3],\n",
       "       [4, 6, 8]])"
      ]
     },
     "execution_count": 50,
     "metadata": {},
     "output_type": "execute_result"
    }
   ],
   "source": [
    "arr4 = np.array(tup)\n",
    "arr4"
   ]
  },
  {
   "cell_type": "code",
   "execution_count": 58,
   "id": "b79eaf8a-3373-45e2-a4fa-86e480222031",
   "metadata": {},
   "outputs": [
    {
     "data": {
      "text/plain": [
       "np.int64(1)"
      ]
     },
     "execution_count": 58,
     "metadata": {},
     "output_type": "execute_result"
    }
   ],
   "source": [
    "arr[0]"
   ]
  },
  {
   "cell_type": "code",
   "execution_count": 62,
   "id": "9a308f50-6b8f-4917-88f0-d9c8b266ebd8",
   "metadata": {},
   "outputs": [
    {
     "data": {
      "text/plain": [
       "array([100,   2,   3,   4])"
      ]
     },
     "execution_count": 62,
     "metadata": {},
     "output_type": "execute_result"
    }
   ],
   "source": [
    "arr[0] = 100 #array is mutable\n",
    "arr"
   ]
  },
  {
   "cell_type": "code",
   "execution_count": 63,
   "id": "aa913a35-f937-4bca-adf0-d8ba8172f571",
   "metadata": {},
   "outputs": [
    {
     "data": {
      "text/plain": [
       "array([100,   2,   3,   4])"
      ]
     },
     "execution_count": 63,
     "metadata": {},
     "output_type": "execute_result"
    }
   ],
   "source": [
    "a = arr # shallow copy - it will points the same memory location , if you alter in one array ill reflect on other as well \n",
    "a"
   ]
  },
  {
   "cell_type": "code",
   "execution_count": 64,
   "id": "3079af81-54ce-485d-84b1-49c4958891c5",
   "metadata": {},
   "outputs": [
    {
     "data": {
      "text/plain": [
       "array([100,   2,   3,   4])"
      ]
     },
     "execution_count": 64,
     "metadata": {},
     "output_type": "execute_result"
    }
   ],
   "source": [
    "arr"
   ]
  },
  {
   "cell_type": "code",
   "execution_count": 65,
   "id": "0e95f721-149a-45f9-8625-09179d181040",
   "metadata": {},
   "outputs": [
    {
     "data": {
      "text/plain": [
       "np.int64(100)"
      ]
     },
     "execution_count": 65,
     "metadata": {},
     "output_type": "execute_result"
    }
   ],
   "source": [
    "a[0]"
   ]
  },
  {
   "cell_type": "code",
   "execution_count": 69,
   "id": "970e312d-06fa-48ae-8476-6111bf370550",
   "metadata": {},
   "outputs": [],
   "source": [
    "a[0] = 10 # lets say i am updating oth index to 10 from 100, so as per the shalllow copy it should reflect in arr array also."
   ]
  },
  {
   "cell_type": "code",
   "execution_count": 70,
   "id": "27a5889a-7d00-4f72-8cc6-92be47b4e6d4",
   "metadata": {},
   "outputs": [
    {
     "data": {
      "text/plain": [
       "array([10,  2,  3,  4])"
      ]
     },
     "execution_count": 70,
     "metadata": {},
     "output_type": "execute_result"
    }
   ],
   "source": [
    "a"
   ]
  },
  {
   "cell_type": "code",
   "execution_count": 71,
   "id": "c6cf30fc-2154-44b3-b8cf-c066e5a31826",
   "metadata": {},
   "outputs": [
    {
     "data": {
      "text/plain": [
       "array([10,  2,  3,  4])"
      ]
     },
     "execution_count": 71,
     "metadata": {},
     "output_type": "execute_result"
    }
   ],
   "source": [
    "arr"
   ]
  },
  {
   "cell_type": "code",
   "execution_count": 72,
   "id": "e827137d-b77c-4a72-9fce-c2f6fd3480f8",
   "metadata": {},
   "outputs": [],
   "source": [
    "## deep copy - "
   ]
  },
  {
   "cell_type": "code",
   "execution_count": 77,
   "id": "655d6025-b1c7-4410-9bf3-312dd6141c8b",
   "metadata": {},
   "outputs": [
    {
     "data": {
      "text/plain": [
       "array([10,  2,  3,  4])"
      ]
     },
     "execution_count": 77,
     "metadata": {},
     "output_type": "execute_result"
    }
   ],
   "source": [
    "a1 = a.copy() ## deepcopy \n",
    "a1"
   ]
  },
  {
   "cell_type": "code",
   "execution_count": 78,
   "id": "6203970d-25e4-4e36-a268-2a89beb7ab66",
   "metadata": {},
   "outputs": [
    {
     "data": {
      "text/plain": [
       "array([10,  2,  3,  4])"
      ]
     },
     "execution_count": 78,
     "metadata": {},
     "output_type": "execute_result"
    }
   ],
   "source": [
    "a"
   ]
  },
  {
   "cell_type": "code",
   "execution_count": 80,
   "id": "9314a89f-bdbd-4086-8190-5083ab2bbc4b",
   "metadata": {},
   "outputs": [
    {
     "data": {
      "text/plain": [
       "array([20,  2,  3,  4])"
      ]
     },
     "execution_count": 80,
     "metadata": {},
     "output_type": "execute_result"
    }
   ],
   "source": [
    "a1[0] = 20 # altered a1 oth index to 20 from 10, so deep copy will not update the original value in the other array\n",
    "a1"
   ]
  },
  {
   "cell_type": "code",
   "execution_count": 81,
   "id": "de20c766-75ad-497a-9f57-822e2aeb3ad0",
   "metadata": {},
   "outputs": [
    {
     "data": {
      "text/plain": [
       "array([10,  2,  3,  4])"
      ]
     },
     "execution_count": 81,
     "metadata": {},
     "output_type": "execute_result"
    }
   ],
   "source": [
    "a"
   ]
  },
  {
   "cell_type": "code",
   "execution_count": 89,
   "id": "cd325c54-0361-40ec-8375-99f0003b8d9f",
   "metadata": {},
   "outputs": [
    {
     "data": {
      "text/plain": [
       "array([[ True, False, False],\n",
       "       [False,  True, False],\n",
       "       [False, False, False]])"
      ]
     },
     "execution_count": 89,
     "metadata": {},
     "output_type": "execute_result"
    }
   ],
   "source": [
    "#multiple way to generate array\n",
    "arr1 = np.fromfunction(lambda x,y: y == x**2 ,(3,3))\n",
    "arr1"
   ]
  },
  {
   "cell_type": "code",
   "execution_count": 90,
   "id": "8300edea-fe8d-4a21-b14c-2cade0ef2d6d",
   "metadata": {},
   "outputs": [
    {
     "data": {
      "text/plain": [
       "array([[ True, False, False],\n",
       "       [False,  True, False],\n",
       "       [False, False,  True]])"
      ]
     },
     "execution_count": 90,
     "metadata": {},
     "output_type": "execute_result"
    }
   ],
   "source": [
    "arr1 = np.fromfunction(lambda x,y: x == y ,(3,3))\n",
    "arr1"
   ]
  },
  {
   "cell_type": "code",
   "execution_count": 91,
   "id": "a61b7563-7ff4-4df0-9984-69587de4dbb8",
   "metadata": {},
   "outputs": [
    {
     "data": {
      "text/plain": [
       "2"
      ]
     },
     "execution_count": 91,
     "metadata": {},
     "output_type": "execute_result"
    }
   ],
   "source": [
    "arr1.ndim"
   ]
  },
  {
   "cell_type": "code",
   "execution_count": 92,
   "id": "0a6f91f2-4751-41c4-b427-2f4b350b95aa",
   "metadata": {},
   "outputs": [
    {
     "data": {
      "text/plain": [
       "(3, 3)"
      ]
     },
     "execution_count": 92,
     "metadata": {},
     "output_type": "execute_result"
    }
   ],
   "source": [
    "arr1.shape"
   ]
  },
  {
   "cell_type": "code",
   "execution_count": 94,
   "id": "55e296d4-1667-4e0a-aa5a-b64e35553535",
   "metadata": {},
   "outputs": [
    {
     "data": {
      "text/plain": [
       "array([[ True,  True,  True],\n",
       "       [False,  True, False],\n",
       "       [False,  True, False]])"
      ]
     },
     "execution_count": 94,
     "metadata": {},
     "output_type": "execute_result"
    }
   ],
   "source": [
    "arr1 = np.fromfunction(lambda x,y: x == x * y ,(3,3))\n",
    "arr1"
   ]
  },
  {
   "cell_type": "code",
   "execution_count": 101,
   "id": "74de05e2-2aeb-405c-8c62-eabeb99fa832",
   "metadata": {},
   "outputs": [
    {
     "name": "stdout",
     "output_type": "stream",
     "text": [
      "0\n",
      "1\n",
      "2\n",
      "3\n",
      "4\n"
     ]
    }
   ],
   "source": [
    "for i in range(5):\n",
    "    print(i)"
   ]
  },
  {
   "cell_type": "code",
   "execution_count": 106,
   "id": "8f2f0cef-8cb9-472c-9456-d836e6a6fe08",
   "metadata": {},
   "outputs": [
    {
     "data": {
      "text/plain": [
       "[0, 1, 2, 3, 4]"
      ]
     },
     "execution_count": 106,
     "metadata": {},
     "output_type": "execute_result"
    }
   ],
   "source": [
    "arr = [i for i in range(5)]\n",
    "arr"
   ]
  },
  {
   "cell_type": "code",
   "execution_count": 107,
   "id": "be1b6b82-b058-49b8-9752-aeb4dede9820",
   "metadata": {},
   "outputs": [
    {
     "data": {
      "text/plain": [
       "list"
      ]
     },
     "execution_count": 107,
     "metadata": {},
     "output_type": "execute_result"
    }
   ],
   "source": [
    "type(arr)"
   ]
  },
  {
   "cell_type": "code",
   "execution_count": 108,
   "id": "633a32fa-a4b2-4cf2-ab0a-6b5d5f7f5551",
   "metadata": {},
   "outputs": [
    {
     "data": {
      "text/plain": [
       "[0, 1, 2, 3, 4]"
      ]
     },
     "execution_count": 108,
     "metadata": {},
     "output_type": "execute_result"
    }
   ],
   "source": [
    "list([i for i in range(5)])"
   ]
  },
  {
   "cell_type": "code",
   "execution_count": 114,
   "id": "26b0760f-8957-46f7-94d6-8413592d6f12",
   "metadata": {},
   "outputs": [
    {
     "data": {
      "text/plain": [
       "array([ 1,  4,  7, 10, 13, 16, 19, 22, 25, 28, 31, 34, 37, 40, 43, 46, 49,\n",
       "       52, 55, 58, 61, 64, 67, 70, 73, 76, 79, 82, 85, 88, 91, 94, 97])"
      ]
     },
     "execution_count": 114,
     "metadata": {},
     "output_type": "execute_result"
    }
   ],
   "source": [
    "np.arange(1,100,3)"
   ]
  },
  {
   "cell_type": "code",
   "execution_count": 120,
   "id": "753c0b8e-1c22-454f-a2d5-5af747ded8ef",
   "metadata": {},
   "outputs": [
    {
     "data": {
      "text/plain": [
       "array([  1.   ,  13.375,  25.75 ,  38.125,  50.5  ,  62.875,  75.25 ,\n",
       "        87.625, 100.   ])"
      ]
     },
     "execution_count": 120,
     "metadata": {},
     "output_type": "execute_result"
    }
   ],
   "source": [
    "np.linspace(1,100,9)"
   ]
  },
  {
   "cell_type": "code",
   "execution_count": 122,
   "id": "e0446e89-f1b4-4fb6-ad3f-5b02ed23802d",
   "metadata": {},
   "outputs": [
    {
     "data": {
      "text/plain": [
       "array([0., 0., 0., 0., 0.])"
      ]
     },
     "execution_count": 122,
     "metadata": {},
     "output_type": "execute_result"
    }
   ],
   "source": [
    "np.zeros(5)"
   ]
  },
  {
   "cell_type": "code",
   "execution_count": 126,
   "id": "692fd748-a0df-46c5-a65f-77af612d0df1",
   "metadata": {},
   "outputs": [
    {
     "data": {
      "text/plain": [
       "array([0, 0, 0])"
      ]
     },
     "execution_count": 126,
     "metadata": {},
     "output_type": "execute_result"
    }
   ],
   "source": [
    "z1 = np.zeros(3, dtype = int)\n",
    "z1"
   ]
  },
  {
   "cell_type": "code",
   "execution_count": 127,
   "id": "b5a2b07b-e16f-470d-8301-511432309a91",
   "metadata": {},
   "outputs": [
    {
     "data": {
      "text/plain": [
       "1"
      ]
     },
     "execution_count": 127,
     "metadata": {},
     "output_type": "execute_result"
    }
   ],
   "source": [
    "z1.ndim"
   ]
  },
  {
   "cell_type": "code",
   "execution_count": 129,
   "id": "4223d953-09f2-42a3-bc9e-318c248057df",
   "metadata": {},
   "outputs": [
    {
     "data": {
      "text/plain": [
       "array([[0, 0, 0],\n",
       "       [0, 0, 0]])"
      ]
     },
     "execution_count": 129,
     "metadata": {},
     "output_type": "execute_result"
    }
   ],
   "source": [
    "z2 = np.zeros((2,3), dtype = int)\n",
    "z2"
   ]
  },
  {
   "cell_type": "code",
   "execution_count": 131,
   "id": "8f8cb1a7-c5e6-4c5a-9d3c-38806cdde99c",
   "metadata": {},
   "outputs": [
    {
     "data": {
      "text/plain": [
       "array([[1, 1, 1],\n",
       "       [1, 1, 1]])"
      ]
     },
     "execution_count": 131,
     "metadata": {},
     "output_type": "execute_result"
    }
   ],
   "source": [
    "z3 = np.ones((2,3), dtype = int)\n",
    "z3"
   ]
  },
  {
   "cell_type": "code",
   "execution_count": 134,
   "id": "2cff1b56-8d41-4ff2-bc88-6f0f7a026a51",
   "metadata": {},
   "outputs": [
    {
     "data": {
      "text/plain": [
       "array([[2, 2, 2],\n",
       "       [2, 2, 2]])"
      ]
     },
     "execution_count": 134,
     "metadata": {},
     "output_type": "execute_result"
    }
   ],
   "source": [
    "arr1 = np.array([[2,2,2],[2,2,2]])\n",
    "arr1"
   ]
  },
  {
   "cell_type": "code",
   "execution_count": 141,
   "id": "6eea9729-1a3b-45b6-8d92-9d7b58cb843c",
   "metadata": {},
   "outputs": [
    {
     "data": {
      "text/plain": [
       "array([[[0, 0, 0, 0],\n",
       "        [0, 0, 0, 0],\n",
       "        [0, 0, 0, 0]]])"
      ]
     },
     "execution_count": 141,
     "metadata": {},
     "output_type": "execute_result"
    }
   ],
   "source": [
    "arr1 = np.zeros((1,3,4),dtype = int)\n",
    "arr1"
   ]
  },
  {
   "cell_type": "code",
   "execution_count": 149,
   "id": "4ed4d844-c9b5-42f1-acd1-331cc9ea440b",
   "metadata": {},
   "outputs": [
    {
     "data": {
      "text/plain": [
       "array([[[5, 5, 5, 5],\n",
       "        [5, 5, 5, 5],\n",
       "        [5, 5, 5, 5]]])"
      ]
     },
     "execution_count": 149,
     "metadata": {},
     "output_type": "execute_result"
    }
   ],
   "source": [
    "sum1 = arr1+5 # sum\n",
    "sum1"
   ]
  },
  {
   "cell_type": "code",
   "execution_count": 151,
   "id": "510abb79-1742-4b6f-b859-f86d41a2643c",
   "metadata": {},
   "outputs": [
    {
     "data": {
      "text/plain": [
       "array([[[-6, -6, -6, -6],\n",
       "        [-6, -6, -6, -6],\n",
       "        [-6, -6, -6, -6]]])"
      ]
     },
     "execution_count": 151,
     "metadata": {},
     "output_type": "execute_result"
    }
   ],
   "source": [
    "sub = arr1-6 #subtraction\n",
    "sub"
   ]
  },
  {
   "cell_type": "code",
   "execution_count": 152,
   "id": "aa1aab7c-d3e9-46dc-8565-54e68897a29c",
   "metadata": {},
   "outputs": [
    {
     "data": {
      "text/plain": [
       "array([[[-30, -30, -30, -30],\n",
       "        [-30, -30, -30, -30],\n",
       "        [-30, -30, -30, -30]]])"
      ]
     },
     "execution_count": 152,
     "metadata": {},
     "output_type": "execute_result"
    }
   ],
   "source": [
    "sub * sum1 # multiplicaion"
   ]
  },
  {
   "cell_type": "code",
   "execution_count": 156,
   "id": "3628a08f-cafd-4394-868f-059d262ec77f",
   "metadata": {},
   "outputs": [
    {
     "data": {
      "text/plain": [
       "array([[1, 0, 0],\n",
       "       [0, 1, 0],\n",
       "       [0, 0, 1]])"
      ]
     },
     "execution_count": 156,
     "metadata": {},
     "output_type": "execute_result"
    }
   ],
   "source": [
    "np.eye(3, dtype = int) # identity matrix"
   ]
  },
  {
   "cell_type": "code",
   "execution_count": 162,
   "id": "a103f941-ff54-4e1c-84bb-8b5f0f1f82c8",
   "metadata": {},
   "outputs": [
    {
     "data": {
      "text/plain": [
       "array([[0, 0, 0, 0],\n",
       "       [0, 0, 0, 0],\n",
       "       [0, 0, 0, 0]])"
      ]
     },
     "execution_count": 162,
     "metadata": {},
     "output_type": "execute_result"
    }
   ],
   "source": [
    "np.empty((3,4),dtype = int) "
   ]
  },
  {
   "cell_type": "code",
   "execution_count": 165,
   "id": "d7737427-92f3-4820-9b56-122905aaf2cb",
   "metadata": {},
   "outputs": [
    {
     "data": {
      "text/plain": [
       "1"
      ]
     },
     "execution_count": 165,
     "metadata": {},
     "output_type": "execute_result"
    }
   ],
   "source": [
    "#random module\n",
    "import random as rd\n",
    "\n",
    "rd.choice((1,2,3,4))"
   ]
  },
  {
   "cell_type": "code",
   "execution_count": 167,
   "id": "b0286dd4-0b23-4592-a5e9-9b75068d06ef",
   "metadata": {},
   "outputs": [
    {
     "data": {
      "text/plain": [
       "5"
      ]
     },
     "execution_count": 167,
     "metadata": {},
     "output_type": "execute_result"
    }
   ],
   "source": [
    "rd.randrange(1,10)"
   ]
  },
  {
   "cell_type": "code",
   "execution_count": 168,
   "id": "f565ebe3-789c-4603-b7f3-9353195ad89c",
   "metadata": {},
   "outputs": [
    {
     "data": {
      "text/plain": [
       "'n'"
      ]
     },
     "execution_count": 168,
     "metadata": {},
     "output_type": "execute_result"
    }
   ],
   "source": [
    "rd.choice(\"shivanand\")"
   ]
  },
  {
   "cell_type": "code",
   "execution_count": 171,
   "id": "df80ee05-6331-4cff-9ab1-b2933c31444c",
   "metadata": {},
   "outputs": [
    {
     "data": {
      "text/plain": [
       "0.2727361548413364"
      ]
     },
     "execution_count": 171,
     "metadata": {},
     "output_type": "execute_result"
    }
   ],
   "source": [
    "rd.random() # random number gives between 0 and 1"
   ]
  },
  {
   "cell_type": "code",
   "execution_count": 172,
   "id": "8cbc05b3-72e9-40b1-9351-7d935271c359",
   "metadata": {},
   "outputs": [
    {
     "data": {
      "text/plain": [
       "[1, 2, 3, 4]"
      ]
     },
     "execution_count": 172,
     "metadata": {},
     "output_type": "execute_result"
    }
   ],
   "source": [
    "l = [1,2,3,4]\n",
    "l"
   ]
  },
  {
   "cell_type": "code",
   "execution_count": 175,
   "id": "983170df-e515-46e2-ae4b-a100bce23eac",
   "metadata": {},
   "outputs": [
    {
     "data": {
      "text/plain": [
       "[1, 4, 2, 3]"
      ]
     },
     "execution_count": 175,
     "metadata": {},
     "output_type": "execute_result"
    }
   ],
   "source": [
    "rd.shuffle(l)\n",
    "l"
   ]
  },
  {
   "cell_type": "code",
   "execution_count": 181,
   "id": "241f6a36-7440-47a4-acb1-9fefa19b49e0",
   "metadata": {},
   "outputs": [
    {
     "data": {
      "text/plain": [
       "0.5877888691994572"
      ]
     },
     "execution_count": 181,
     "metadata": {},
     "output_type": "execute_result"
    }
   ],
   "source": [
    "import numpy as np\n",
    "np.random.random_sample()"
   ]
  },
  {
   "cell_type": "code",
   "execution_count": 185,
   "id": "012edb04-3686-445a-a220-1fbd8973641f",
   "metadata": {},
   "outputs": [
    {
     "data": {
      "text/plain": [
       "array([0.48007471, 0.69794574, 0.67348414, 0.38818797, 0.53610899])"
      ]
     },
     "execution_count": 185,
     "metadata": {},
     "output_type": "execute_result"
    }
   ],
   "source": [
    "np.random.random_sample((5,))"
   ]
  },
  {
   "cell_type": "code",
   "execution_count": 188,
   "id": "5807edb0-9518-4a63-9e32-9dcdfb197942",
   "metadata": {},
   "outputs": [
    {
     "data": {
      "text/plain": [
       "array([0.05959888])"
      ]
     },
     "execution_count": 188,
     "metadata": {},
     "output_type": "execute_result"
    }
   ],
   "source": [
    "np.random.rand(1)"
   ]
  },
  {
   "cell_type": "code",
   "execution_count": 193,
   "id": "f5ae1f11-ccac-4c0a-83b1-d14c17b62dfd",
   "metadata": {},
   "outputs": [
    {
     "data": {
      "text/plain": [
       "array([[-2.87463347,  1.29863111,  0.38216912],\n",
       "       [-0.55907887,  0.9749487 ,  1.24711642]])"
      ]
     },
     "execution_count": 193,
     "metadata": {},
     "output_type": "execute_result"
    }
   ],
   "source": [
    "np.random.randn(2,3) #Return a sample (or samples) from the \"standard normal\" distribution."
   ]
  },
  {
   "cell_type": "code",
   "execution_count": 196,
   "id": "72f2b2b8-f7ce-4c6f-8908-685a20d9107f",
   "metadata": {},
   "outputs": [
    {
     "data": {
      "text/plain": [
       "array([[1, 4, 4, 3],\n",
       "       [2, 4, 1, 1],\n",
       "       [3, 3, 1, 3]])"
      ]
     },
     "execution_count": 196,
     "metadata": {},
     "output_type": "execute_result"
    }
   ],
   "source": [
    "np.random.randint(1,5, size = (3,4))"
   ]
  },
  {
   "cell_type": "code",
   "execution_count": 197,
   "id": "84fa9531-b582-489d-9942-f817e4e807ea",
   "metadata": {},
   "outputs": [
    {
     "data": {
      "text/plain": [
       "array([[4, 2, 2, 3],\n",
       "       [2, 2, 4, 4],\n",
       "       [3, 1, 2, 2]])"
      ]
     },
     "execution_count": 197,
     "metadata": {},
     "output_type": "execute_result"
    }
   ],
   "source": [
    "arr1 = np.random.randint(1,5, size = (3,4))\n",
    "arr1"
   ]
  },
  {
   "cell_type": "code",
   "execution_count": 199,
   "id": "7e5de520-dab0-4499-b4ed-1b84ab818ec4",
   "metadata": {},
   "outputs": [
    {
     "data": {
      "text/plain": [
       "(3, 4)"
      ]
     },
     "execution_count": 199,
     "metadata": {},
     "output_type": "execute_result"
    }
   ],
   "source": [
    "arr1.shape"
   ]
  },
  {
   "cell_type": "code",
   "execution_count": 202,
   "id": "1574d984-1c5f-4709-a4fe-2bdcc2625fb5",
   "metadata": {},
   "outputs": [
    {
     "data": {
      "text/plain": [
       "array([[4, 2, 2, 3, 2, 2],\n",
       "       [4, 4, 3, 1, 2, 2]])"
      ]
     },
     "execution_count": 202,
     "metadata": {},
     "output_type": "execute_result"
    }
   ],
   "source": [
    "arr1.reshape(2,6)"
   ]
  },
  {
   "cell_type": "code",
   "execution_count": 203,
   "id": "409a47fc-1334-4687-9a2d-26cf84838917",
   "metadata": {},
   "outputs": [
    {
     "data": {
      "text/plain": [
       "array([[4, 2, 2, 3, 2, 2],\n",
       "       [4, 4, 3, 1, 2, 2]])"
      ]
     },
     "execution_count": 203,
     "metadata": {},
     "output_type": "execute_result"
    }
   ],
   "source": [
    "arr1.reshape(2,-1) # if you donot know the row*colm value"
   ]
  },
  {
   "cell_type": "code",
   "execution_count": 204,
   "id": "811113e8-2624-40e3-a609-0d39570ef49e",
   "metadata": {},
   "outputs": [
    {
     "data": {
      "text/plain": [
       "array([[4, 2, 2, 3],\n",
       "       [2, 2, 4, 4],\n",
       "       [3, 1, 2, 2]])"
      ]
     },
     "execution_count": 204,
     "metadata": {},
     "output_type": "execute_result"
    }
   ],
   "source": [
    "arr1.reshape(-1,4)"
   ]
  },
  {
   "cell_type": "code",
   "execution_count": 205,
   "id": "418994ee-d06e-45bc-a927-fdb47a367da6",
   "metadata": {},
   "outputs": [
    {
     "data": {
      "text/plain": [
       "array([[4, 2, 2, 3],\n",
       "       [2, 2, 4, 4],\n",
       "       [3, 1, 2, 2]])"
      ]
     },
     "execution_count": 205,
     "metadata": {},
     "output_type": "execute_result"
    }
   ],
   "source": [
    "arr1.reshape(-1,4).base"
   ]
  },
  {
   "cell_type": "code",
   "execution_count": 206,
   "id": "2ccdba04-2a0f-456b-bf99-3da7457f50ae",
   "metadata": {},
   "outputs": [
    {
     "data": {
      "text/plain": [
       "array([[[[4, 2],\n",
       "         [2, 3],\n",
       "         [2, 2]],\n",
       "\n",
       "        [[4, 4],\n",
       "         [3, 1],\n",
       "         [2, 2]]]])"
      ]
     },
     "execution_count": 206,
     "metadata": {},
     "output_type": "execute_result"
    }
   ],
   "source": [
    "arr1.reshape(1,2,3,2)"
   ]
  },
  {
   "cell_type": "code",
   "execution_count": 213,
   "id": "263d2da7-d8a9-438d-b7ca-db1bde9fe574",
   "metadata": {},
   "outputs": [
    {
     "data": {
      "text/plain": [
       "array([[4, 2, 2, 2],\n",
       "       [4, 2, 4, 4],\n",
       "       [1, 4, 4, 4]])"
      ]
     },
     "execution_count": 213,
     "metadata": {},
     "output_type": "execute_result"
    }
   ],
   "source": [
    "arr2 = np.random.randint(1,5, size = (3,4))\n",
    "arr2"
   ]
  },
  {
   "cell_type": "code",
   "execution_count": 217,
   "id": "05b9a45f-dde9-49cb-b89d-8d951c2f2f1b",
   "metadata": {},
   "outputs": [
    {
     "data": {
      "text/plain": [
       "array([[ True, False, False, False],\n",
       "       [ True, False,  True,  True],\n",
       "       [False,  True,  True,  True]])"
      ]
     },
     "execution_count": 217,
     "metadata": {},
     "output_type": "execute_result"
    }
   ],
   "source": [
    "arr2>=3"
   ]
  },
  {
   "cell_type": "code",
   "execution_count": 218,
   "id": "c27b5d1f-cc04-4bce-a84b-7abcda5dd2f6",
   "metadata": {},
   "outputs": [
    {
     "data": {
      "text/plain": [
       "array([[4, 2, 2, 2],\n",
       "       [4, 2, 4, 4],\n",
       "       [1, 4, 4, 4]])"
      ]
     },
     "execution_count": 218,
     "metadata": {},
     "output_type": "execute_result"
    }
   ],
   "source": [
    "arr2"
   ]
  },
  {
   "cell_type": "code",
   "execution_count": 227,
   "id": "c25bb4dc-3b35-40b3-9db8-ea7057cbe0c0",
   "metadata": {},
   "outputs": [
    {
     "data": {
      "text/plain": [
       "array([[3, 4, 1, 3, 4, 3, 4, 2, 2],\n",
       "       [2, 1, 1, 4, 4, 4, 2, 2, 1],\n",
       "       [1, 2, 4, 3, 4, 2, 3, 3, 2],\n",
       "       [2, 4, 1, 1, 3, 3, 2, 4, 2],\n",
       "       [4, 3, 2, 3, 3, 1, 3, 2, 1],\n",
       "       [2, 4, 2, 1, 4, 2, 1, 3, 2],\n",
       "       [1, 1, 1, 2, 4, 2, 2, 1, 1],\n",
       "       [4, 1, 1, 1, 1, 1, 4, 3, 3]])"
      ]
     },
     "execution_count": 227,
     "metadata": {},
     "output_type": "execute_result"
    }
   ],
   "source": [
    "arr3 = np.random.randint(1,5, size = (8,9))\n",
    "arr3"
   ]
  },
  {
   "cell_type": "code",
   "execution_count": 230,
   "id": "dd0e9c81-d6c6-487b-b5a0-d22cb5f745c3",
   "metadata": {},
   "outputs": [
    {
     "data": {
      "text/plain": [
       "np.int64(2)"
      ]
     },
     "execution_count": 230,
     "metadata": {},
     "output_type": "execute_result"
    }
   ],
   "source": [
    "arr3[0][8] ## accesing the element using index"
   ]
  },
  {
   "cell_type": "code",
   "execution_count": 236,
   "id": "e69296f4-7434-4699-a304-8d4047ed99e9",
   "metadata": {},
   "outputs": [
    {
     "data": {
      "text/plain": [
       "array([[3, 4, 1, 3, 4, 3, 4, 2, 2],\n",
       "       [2, 1, 1, 4, 4, 4, 2, 2, 1],\n",
       "       [1, 2, 4, 3, 4, 2, 3, 3, 2]])"
      ]
     },
     "execution_count": 236,
     "metadata": {},
     "output_type": "execute_result"
    }
   ],
   "source": [
    "# from 0th row to 2rd row\n",
    "arr3[0:3]"
   ]
  },
  {
   "cell_type": "code",
   "execution_count": 235,
   "id": "6a481777-8b27-4cb4-8a6f-58ba12edd93e",
   "metadata": {},
   "outputs": [
    {
     "data": {
      "text/plain": [
       "array([[3, 1],\n",
       "       [2, 1],\n",
       "       [1, 4]])"
      ]
     },
     "execution_count": 235,
     "metadata": {},
     "output_type": "execute_result"
    }
   ],
   "source": [
    "# from 0th row to 2rd row  and 0th and 2nd column\n",
    "arr3[0:3,[0,2]]"
   ]
  },
  {
   "cell_type": "code",
   "execution_count": 238,
   "id": "5acc10cd-23f6-4ad0-a7cd-7b451c3415f1",
   "metadata": {},
   "outputs": [
    {
     "data": {
      "text/plain": [
       "array([[4, 1],\n",
       "       [1, 1],\n",
       "       [2, 4]])"
      ]
     },
     "execution_count": 238,
     "metadata": {},
     "output_type": "execute_result"
    }
   ],
   "source": [
    "# 0th row to 2nd row and (2nd column and 3rd colmn) \n",
    "arr3[0:3,[1,2]]"
   ]
  },
  {
   "cell_type": "code",
   "execution_count": 255,
   "id": "44433d6c-c7d1-43c4-951c-70a298867610",
   "metadata": {},
   "outputs": [],
   "source": [
    "#mathematical operations :\n",
    "import random\n",
    "import numpy as np"
   ]
  },
  {
   "cell_type": "code",
   "execution_count": 265,
   "id": "b4a19797-e6f2-488d-9796-cf1ae4e125f1",
   "metadata": {},
   "outputs": [],
   "source": [
    "arr1 = np.random.randint(1,2, size = (3,3))\n",
    "arr2 = np.random.randint(1,2, size = (3,3))\n"
   ]
  },
  {
   "cell_type": "code",
   "execution_count": 273,
   "id": "e7b9d586-410c-456a-a72f-4debe8b5cff2",
   "metadata": {},
   "outputs": [
    {
     "data": {
      "text/plain": [
       "(array([[1, 1, 1],\n",
       "        [1, 1, 1],\n",
       "        [1, 1, 1]]),\n",
       " array([[1, 1, 1],\n",
       "        [1, 1, 1],\n",
       "        [1, 1, 1]]))"
      ]
     },
     "execution_count": 273,
     "metadata": {},
     "output_type": "execute_result"
    }
   ],
   "source": [
    "arr1, arr2"
   ]
  },
  {
   "cell_type": "code",
   "execution_count": 274,
   "id": "3ff3fe3e-83e2-48d4-8811-00e333d6ec1f",
   "metadata": {},
   "outputs": [
    {
     "data": {
      "text/plain": [
       "array([[2, 2, 2],\n",
       "       [2, 2, 2],\n",
       "       [2, 2, 2]])"
      ]
     },
     "execution_count": 274,
     "metadata": {},
     "output_type": "execute_result"
    }
   ],
   "source": [
    "arr1+arr2"
   ]
  },
  {
   "cell_type": "code",
   "execution_count": 275,
   "id": "8189cab3-ded9-4ece-9a19-456b4ae4e857",
   "metadata": {},
   "outputs": [
    {
     "data": {
      "text/plain": [
       "array([[0, 0, 0],\n",
       "       [0, 0, 0],\n",
       "       [0, 0, 0]])"
      ]
     },
     "execution_count": 275,
     "metadata": {},
     "output_type": "execute_result"
    }
   ],
   "source": [
    "arr1-arr2"
   ]
  },
  {
   "cell_type": "code",
   "execution_count": 276,
   "id": "5dd3dcc2-52eb-4028-8fe3-194119413260",
   "metadata": {},
   "outputs": [
    {
     "data": {
      "text/plain": [
       "array([[1, 1, 1],\n",
       "       [1, 1, 1],\n",
       "       [1, 1, 1]])"
      ]
     },
     "execution_count": 276,
     "metadata": {},
     "output_type": "execute_result"
    }
   ],
   "source": [
    "arr1*arr2"
   ]
  },
  {
   "cell_type": "code",
   "execution_count": 277,
   "id": "7ef178d3-d2d7-4f3c-8f49-44195cec4b3b",
   "metadata": {},
   "outputs": [
    {
     "data": {
      "text/plain": [
       "array([[1., 1., 1.],\n",
       "       [1., 1., 1.],\n",
       "       [1., 1., 1.]])"
      ]
     },
     "execution_count": 277,
     "metadata": {},
     "output_type": "execute_result"
    }
   ],
   "source": [
    "arr1/arr2"
   ]
  },
  {
   "cell_type": "code",
   "execution_count": 271,
   "id": "23b5679c-c326-4d4c-8038-9ba1dbaa6be8",
   "metadata": {},
   "outputs": [
    {
     "data": {
      "text/plain": [
       "array([[0, 0, 0],\n",
       "       [0, 0, 0],\n",
       "       [0, 0, 0]])"
      ]
     },
     "execution_count": 271,
     "metadata": {},
     "output_type": "execute_result"
    }
   ],
   "source": [
    "arr1%arr2"
   ]
  },
  {
   "cell_type": "code",
   "execution_count": 278,
   "id": "d685df7b-99ea-41d1-875c-ebc8018bd430",
   "metadata": {},
   "outputs": [
    {
     "data": {
      "text/plain": [
       "array([[3, 3, 3],\n",
       "       [3, 3, 3],\n",
       "       [3, 3, 3]])"
      ]
     },
     "execution_count": 278,
     "metadata": {},
     "output_type": "execute_result"
    }
   ],
   "source": [
    "arr1 @ arr2 # matrix multiplication is a special type of multiplication."
   ]
  },
  {
   "cell_type": "code",
   "execution_count": 290,
   "id": "c7f447d6-9fc9-464d-bbeb-a619b410d133",
   "metadata": {},
   "outputs": [],
   "source": [
    "#Transpose of a matrix\n",
    "a = np.array([1,2,3,4])"
   ]
  },
  {
   "cell_type": "code",
   "execution_count": 291,
   "id": "a087a32a-39b9-4cb6-92fb-abb6a76237d8",
   "metadata": {},
   "outputs": [
    {
     "data": {
      "text/plain": [
       "array([1, 2, 3, 4])"
      ]
     },
     "execution_count": 291,
     "metadata": {},
     "output_type": "execute_result"
    }
   ],
   "source": [
    "a"
   ]
  },
  {
   "cell_type": "code",
   "execution_count": 294,
   "id": "c4206b05-d35b-4ef0-9764-80cfabe4b832",
   "metadata": {},
   "outputs": [
    {
     "data": {
      "text/plain": [
       "1"
      ]
     },
     "execution_count": 294,
     "metadata": {},
     "output_type": "execute_result"
    }
   ],
   "source": [
    "a.size #4\n",
    "a.shape # (4,)\n",
    "a.ndim #1"
   ]
  },
  {
   "cell_type": "code",
   "execution_count": 289,
   "id": "ce02e8f5-ae1c-4404-a402-1ac3eb2913fd",
   "metadata": {},
   "outputs": [
    {
     "data": {
      "text/plain": [
       "array([[1],\n",
       "       [2],\n",
       "       [3],\n",
       "       [4]])"
      ]
     },
     "execution_count": 289,
     "metadata": {},
     "output_type": "execute_result"
    }
   ],
   "source": [
    "a.T"
   ]
  },
  {
   "cell_type": "code",
   "execution_count": 295,
   "id": "baf1adb6-751a-4c45-a3a0-ede1234e21b8",
   "metadata": {},
   "outputs": [
    {
     "data": {
      "text/plain": [
       "array([[1, 2, 3, 4]])"
      ]
     },
     "execution_count": 295,
     "metadata": {},
     "output_type": "execute_result"
    }
   ],
   "source": [
    "#Transpose of a matrix is valid for 2D \n",
    "\n",
    "a = np.array([[1,2,3,4]])\n",
    "a"
   ]
  },
  {
   "cell_type": "code",
   "execution_count": 296,
   "id": "874fa573-ed3b-4295-92dd-cea8cae9c8ce",
   "metadata": {},
   "outputs": [
    {
     "data": {
      "text/plain": [
       "array([[1],\n",
       "       [2],\n",
       "       [3],\n",
       "       [4]])"
      ]
     },
     "execution_count": 296,
     "metadata": {},
     "output_type": "execute_result"
    }
   ],
   "source": [
    "a.T"
   ]
  },
  {
   "cell_type": "code",
   "execution_count": 302,
   "id": "94814eda-0734-4e06-8c71-9e77aa357b45",
   "metadata": {},
   "outputs": [
    {
     "data": {
      "text/plain": [
       "array([[4, 1, 2, 4],\n",
       "       [2, 1, 3, 4],\n",
       "       [2, 1, 1, 4]])"
      ]
     },
     "execution_count": 302,
     "metadata": {},
     "output_type": "execute_result"
    }
   ],
   "source": [
    "arr1 = np.random.randint(1,5, size = (3,4))\n",
    "arr1"
   ]
  },
  {
   "cell_type": "code",
   "execution_count": 304,
   "id": "f7c6a497-fa3f-444a-a609-05b0b5cd5caa",
   "metadata": {},
   "outputs": [
    {
     "data": {
      "text/plain": [
       "array([[4, 2, 2],\n",
       "       [1, 1, 1],\n",
       "       [2, 3, 1],\n",
       "       [4, 4, 4]])"
      ]
     },
     "execution_count": 304,
     "metadata": {},
     "output_type": "execute_result"
    }
   ],
   "source": [
    "arr1.T # Transpose of a array will give you the rows into columns and columns into rows"
   ]
  },
  {
   "cell_type": "code",
   "execution_count": 306,
   "id": "46b748d0-6160-4769-99a6-b7fb0e66a0ae",
   "metadata": {},
   "outputs": [],
   "source": [
    "arr1 = np.random.randint(1,3, size = (3,3))\n",
    "arr2 = np.random.randint(1,3, size = (3,3))"
   ]
  },
  {
   "cell_type": "code",
   "execution_count": 307,
   "id": "cb6fadb0-f2bd-4cc8-9277-727cffea802e",
   "metadata": {},
   "outputs": [
    {
     "data": {
      "text/plain": [
       "(array([[1, 1, 2],\n",
       "        [2, 1, 1],\n",
       "        [1, 2, 1]]),\n",
       " array([[1, 1, 1],\n",
       "        [1, 2, 2],\n",
       "        [1, 1, 2]]))"
      ]
     },
     "execution_count": 307,
     "metadata": {},
     "output_type": "execute_result"
    }
   ],
   "source": [
    "arr1, arr2"
   ]
  },
  {
   "cell_type": "code",
   "execution_count": 316,
   "id": "18247665-b925-4051-869a-4c00cb3a1be4",
   "metadata": {},
   "outputs": [
    {
     "data": {
      "text/plain": [
       "array([1, 1, 2, 2, 1, 1, 1, 2, 1])"
      ]
     },
     "execution_count": 316,
     "metadata": {},
     "output_type": "execute_result"
    }
   ],
   "source": [
    "arr1.flatten() #Return a copy of the array collapsed into one dimension."
   ]
  },
  {
   "cell_type": "code",
   "execution_count": 318,
   "id": "569fe60d-b031-49a4-9edd-e41c90d9463f",
   "metadata": {},
   "outputs": [
    {
     "data": {
      "text/plain": [
       "array([1, 2, 3, 4])"
      ]
     },
     "execution_count": 318,
     "metadata": {},
     "output_type": "execute_result"
    }
   ],
   "source": [
    "# expand the dimension\n",
    "arr1 = np.array([1,2,3,4])\n",
    "arr1"
   ]
  },
  {
   "cell_type": "code",
   "execution_count": 327,
   "id": "229f31e6-85ca-45ae-b20a-a1e1d3663e94",
   "metadata": {},
   "outputs": [
    {
     "data": {
      "text/plain": [
       "array([[1],\n",
       "       [2],\n",
       "       [3],\n",
       "       [4]])"
      ]
     },
     "execution_count": 327,
     "metadata": {},
     "output_type": "execute_result"
    }
   ],
   "source": [
    "np.expand_dims(arr1,axis = 1) #Expand the shape of an array."
   ]
  },
  {
   "cell_type": "code",
   "execution_count": 328,
   "id": "9ad89196-c333-4a87-9b64-0b84687faa74",
   "metadata": {},
   "outputs": [
    {
     "data": {
      "text/plain": [
       "2"
      ]
     },
     "execution_count": 328,
     "metadata": {},
     "output_type": "execute_result"
    }
   ],
   "source": [
    "np.expand_dims(arr1,axis = 1).ndim"
   ]
  },
  {
   "cell_type": "code",
   "execution_count": 332,
   "id": "ae7419bc-7dd3-4b24-839b-f6a447c8262f",
   "metadata": {},
   "outputs": [
    {
     "data": {
      "text/plain": [
       "array([[0., 0.],\n",
       "       [0., 0.]])"
      ]
     },
     "execution_count": 332,
     "metadata": {},
     "output_type": "execute_result"
    }
   ],
   "source": [
    "arr = np.zeros((2,2))\n",
    "arr"
   ]
  },
  {
   "cell_type": "code",
   "execution_count": 334,
   "id": "4c1dbb60-8827-403a-82b3-e473f084c9e9",
   "metadata": {},
   "outputs": [
    {
     "data": {
      "text/plain": [
       "3"
      ]
     },
     "execution_count": 334,
     "metadata": {},
     "output_type": "execute_result"
    }
   ],
   "source": [
    "np.expand_dims(arr,axis = 1).ndim"
   ]
  },
  {
   "cell_type": "code",
   "execution_count": 341,
   "id": "39e8ab94-7176-4972-8c23-1db32db03c61",
   "metadata": {},
   "outputs": [
    {
     "data": {
      "text/plain": [
       "array([[1],\n",
       "       [2],\n",
       "       [3]])"
      ]
     },
     "execution_count": 341,
     "metadata": {},
     "output_type": "execute_result"
    }
   ],
   "source": [
    "a = np.array([[1],[2],[3]])\n",
    "a"
   ]
  },
  {
   "cell_type": "code",
   "execution_count": 344,
   "id": "03ffdd6e-d7bc-40a8-b746-ff2fa7f0d668",
   "metadata": {},
   "outputs": [
    {
     "data": {
      "text/plain": [
       "2"
      ]
     },
     "execution_count": 344,
     "metadata": {},
     "output_type": "execute_result"
    }
   ],
   "source": [
    "a.ndim"
   ]
  },
  {
   "cell_type": "code",
   "execution_count": 345,
   "id": "139adf2a-58bc-4799-b8ea-4756164aa428",
   "metadata": {},
   "outputs": [
    {
     "data": {
      "text/plain": [
       "array([1, 2, 3])"
      ]
     },
     "execution_count": 345,
     "metadata": {},
     "output_type": "execute_result"
    }
   ],
   "source": [
    "np.squeeze(a) #Remove axes of length one from `a`."
   ]
  },
  {
   "cell_type": "code",
   "execution_count": 346,
   "id": "da2b90cf-c4af-4014-9848-64fae8605c55",
   "metadata": {},
   "outputs": [
    {
     "data": {
      "text/plain": [
       "array([[1],\n",
       "       [2],\n",
       "       [3]])"
      ]
     },
     "execution_count": 346,
     "metadata": {},
     "output_type": "execute_result"
    }
   ],
   "source": [
    "a"
   ]
  },
  {
   "cell_type": "code",
   "execution_count": 347,
   "id": "5c3a123a-fe52-4e4f-a9d6-6bc32603a1db",
   "metadata": {},
   "outputs": [
    {
     "data": {
      "text/plain": [
       "array([1, 1, 1, 1, 2, 2, 2, 2, 3, 3, 3, 3])"
      ]
     },
     "execution_count": 347,
     "metadata": {},
     "output_type": "execute_result"
    }
   ],
   "source": [
    "np.repeat(a,4)"
   ]
  },
  {
   "cell_type": "code",
   "execution_count": 348,
   "id": "f0072520-31c0-4fa1-86c3-95c5413a59c0",
   "metadata": {},
   "outputs": [
    {
     "data": {
      "text/plain": [
       "array([1, 2, 3, 4])"
      ]
     },
     "execution_count": 348,
     "metadata": {},
     "output_type": "execute_result"
    }
   ],
   "source": [
    "arr1"
   ]
  },
  {
   "cell_type": "code",
   "execution_count": 351,
   "id": "64b6c7d4-5577-4f5f-8957-5ecf2ea684fe",
   "metadata": {},
   "outputs": [
    {
     "data": {
      "text/plain": [
       "array([1, 1, 2, 2, 3, 3, 4, 4])"
      ]
     },
     "execution_count": 351,
     "metadata": {},
     "output_type": "execute_result"
    }
   ],
   "source": [
    "np.repeat(arr1,2, axis = 0)"
   ]
  },
  {
   "cell_type": "code",
   "execution_count": 356,
   "id": "6545c97a-297f-4814-a248-1ce8cd6788bf",
   "metadata": {},
   "outputs": [],
   "source": [
    "arr10 = np.random.randint(2,5,(3,4))"
   ]
  },
  {
   "cell_type": "code",
   "execution_count": 357,
   "id": "2296e714-a52d-43c7-8e4d-9fe826311738",
   "metadata": {},
   "outputs": [
    {
     "data": {
      "text/plain": [
       "array([[3, 4, 4, 4],\n",
       "       [4, 3, 2, 2],\n",
       "       [2, 4, 4, 4]])"
      ]
     },
     "execution_count": 357,
     "metadata": {},
     "output_type": "execute_result"
    }
   ],
   "source": [
    "arr10"
   ]
  },
  {
   "cell_type": "code",
   "execution_count": 358,
   "id": "8f0a11d6-0c67-4512-99ba-8ac58fca9b00",
   "metadata": {},
   "outputs": [
    {
     "data": {
      "text/plain": [
       "array([3, 3, 4, 4, 4, 4, 4, 4, 4, 4, 3, 3, 2, 2, 2, 2, 2, 2, 4, 4, 4, 4,\n",
       "       4, 4])"
      ]
     },
     "execution_count": 358,
     "metadata": {},
     "output_type": "execute_result"
    }
   ],
   "source": [
    "np.repeat(arr10,2)"
   ]
  },
  {
   "cell_type": "code",
   "execution_count": 361,
   "id": "7b2d5e38-b79b-4c5b-afe3-0350e3705dce",
   "metadata": {},
   "outputs": [
    {
     "data": {
      "text/plain": [
       "array([[3, 4, 4, 4],\n",
       "       [3, 4, 4, 4],\n",
       "       [4, 3, 2, 2],\n",
       "       [4, 3, 2, 2],\n",
       "       [2, 4, 4, 4],\n",
       "       [2, 4, 4, 4]])"
      ]
     },
     "execution_count": 361,
     "metadata": {},
     "output_type": "execute_result"
    }
   ],
   "source": [
    "np.repeat(arr10,2, axis = 0)"
   ]
  },
  {
   "cell_type": "code",
   "execution_count": 362,
   "id": "ef951ec8-431e-4acf-a67c-a6a4f9bdaf92",
   "metadata": {},
   "outputs": [
    {
     "data": {
      "text/plain": [
       "array([[1],\n",
       "       [2],\n",
       "       [3]])"
      ]
     },
     "execution_count": 362,
     "metadata": {},
     "output_type": "execute_result"
    }
   ],
   "source": [
    "a"
   ]
  },
  {
   "cell_type": "code",
   "execution_count": 365,
   "id": "069eb65b-5917-47a4-9949-2eb7847b8786",
   "metadata": {},
   "outputs": [
    {
     "data": {
      "text/plain": [
       "array([[2],\n",
       "       [3],\n",
       "       [1]])"
      ]
     },
     "execution_count": 365,
     "metadata": {},
     "output_type": "execute_result"
    }
   ],
   "source": [
    "np.roll(a,-1)  #Roll array elements along a given axis."
   ]
  },
  {
   "cell_type": "code",
   "execution_count": 366,
   "id": "d457395d-8997-435a-ab97-67251008917e",
   "metadata": {},
   "outputs": [
    {
     "data": {
      "text/plain": [
       "array([[1, 2],\n",
       "       [3, 4],\n",
       "       [5, 6],\n",
       "       [7, 8]])"
      ]
     },
     "execution_count": 366,
     "metadata": {},
     "output_type": "execute_result"
    }
   ],
   "source": [
    "a = np.array([[1,2],[3,4],[5,6],[7,8]])\n",
    "a"
   ]
  },
  {
   "cell_type": "code",
   "execution_count": 367,
   "id": "64d89a37-5b5d-437b-85ad-9c3ab9191332",
   "metadata": {},
   "outputs": [
    {
     "data": {
      "text/plain": [
       "array([[2, 3],\n",
       "       [4, 5],\n",
       "       [6, 7],\n",
       "       [8, 1]])"
      ]
     },
     "execution_count": 367,
     "metadata": {},
     "output_type": "execute_result"
    }
   ],
   "source": [
    "np.roll(a,-1) #single value"
   ]
  },
  {
   "cell_type": "code",
   "execution_count": 368,
   "id": "c0a05d1f-ddb8-4e98-965d-bc92b65f3ca3",
   "metadata": {},
   "outputs": [
    {
     "data": {
      "text/plain": [
       "array([[7, 8],\n",
       "       [1, 2],\n",
       "       [3, 4],\n",
       "       [5, 6]])"
      ]
     },
     "execution_count": 368,
     "metadata": {},
     "output_type": "execute_result"
    }
   ],
   "source": [
    "np.roll(a,2) #paired value"
   ]
  },
  {
   "cell_type": "code",
   "execution_count": 369,
   "id": "8836e8d6-1fc5-4297-9396-8bb2d72ea346",
   "metadata": {},
   "outputs": [
    {
     "data": {
      "text/plain": [
       "array([[5, 6],\n",
       "       [7, 8],\n",
       "       [1, 2],\n",
       "       [3, 4]])"
      ]
     },
     "execution_count": 369,
     "metadata": {},
     "output_type": "execute_result"
    }
   ],
   "source": [
    "np.roll(a,2, axis = 0)"
   ]
  },
  {
   "cell_type": "code",
   "execution_count": 371,
   "id": "493727fd-417a-42a7-8507-0c638a1de208",
   "metadata": {},
   "outputs": [
    {
     "data": {
      "text/plain": [
       "(array([1, 2, 3, 4]),\n",
       " array([[1, 1, 1],\n",
       "        [1, 2, 2],\n",
       "        [1, 1, 2]]))"
      ]
     },
     "execution_count": 371,
     "metadata": {},
     "output_type": "execute_result"
    }
   ],
   "source": [
    "#Mathematical oprations\n",
    "\n",
    "arr1, arr2"
   ]
  },
  {
   "cell_type": "code",
   "execution_count": 372,
   "id": "6a300404-1b86-4773-9cbe-aaa1f8df6dd8",
   "metadata": {},
   "outputs": [
    {
     "ename": "ValueError",
     "evalue": "operands could not be broadcast together with shapes (4,) (3,3) ",
     "output_type": "error",
     "traceback": [
      "\u001b[0;31m---------------------------------------------------------------------------\u001b[0m",
      "\u001b[0;31mValueError\u001b[0m                                Traceback (most recent call last)",
      "Cell \u001b[0;32mIn[372], line 1\u001b[0m\n\u001b[0;32m----> 1\u001b[0m \u001b[43marr1\u001b[49m\u001b[38;5;241;43m+\u001b[39;49m\u001b[43marr2\u001b[49m\n",
      "\u001b[0;31mValueError\u001b[0m: operands could not be broadcast together with shapes (4,) (3,3) "
     ]
    }
   ],
   "source": [
    "arr1+arr2 # gives error as shapes are not equal"
   ]
  },
  {
   "cell_type": "code",
   "execution_count": 373,
   "id": "625ddfe5-fb32-4765-bb1f-bf42e5c85364",
   "metadata": {},
   "outputs": [
    {
     "data": {
      "text/plain": [
       "array([[-2, -2, -2],\n",
       "       [-2, -3, -3],\n",
       "       [-2, -2, -3]])"
      ]
     },
     "execution_count": 373,
     "metadata": {},
     "output_type": "execute_result"
    }
   ],
   "source": [
    "~arr2"
   ]
  },
  {
   "cell_type": "code",
   "execution_count": 377,
   "id": "e1c186db-4a5b-4975-b403-9afb5004bcff",
   "metadata": {},
   "outputs": [
    {
     "data": {
      "text/plain": [
       "array(['pwskills', 'ds'], dtype='<U8')"
      ]
     },
     "execution_count": 377,
     "metadata": {},
     "output_type": "execute_result"
    }
   ],
   "source": [
    "#operations on numpy string array\n",
    "\n",
    "arr = np.array([\"pwskills\",'ds'])\n",
    "arr"
   ]
  },
  {
   "cell_type": "code",
   "execution_count": 378,
   "id": "0d69e0d6-1d66-4107-81ee-dcd83a39e459",
   "metadata": {},
   "outputs": [
    {
     "data": {
      "text/plain": [
       "array(['Pwskills', 'Ds'], dtype='<U8')"
      ]
     },
     "execution_count": 378,
     "metadata": {},
     "output_type": "execute_result"
    }
   ],
   "source": [
    "np.char.capitalize(arr) \n",
    "#Return a copy of ``a`` with only the first character of each element capitalized."
   ]
  },
  {
   "cell_type": "code",
   "execution_count": 380,
   "id": "3d3720bc-6f70-46c4-944a-66cb8139131d",
   "metadata": {},
   "outputs": [
    {
     "data": {
      "text/plain": [
       "array(['PWSKILLS', 'DS'], dtype='<U8')"
      ]
     },
     "execution_count": 380,
     "metadata": {},
     "output_type": "execute_result"
    }
   ],
   "source": [
    "np.char.upper(arr) #Return an array with the elements converted to uppercase.\n"
   ]
  },
  {
   "cell_type": "code",
   "execution_count": 384,
   "id": "12d3760a-ebbf-4322-85a0-9f04d8b08ab7",
   "metadata": {},
   "outputs": [],
   "source": [
    "#Mathematical functions"
   ]
  },
  {
   "cell_type": "code",
   "execution_count": 385,
   "id": "d5c2347c-b14d-4702-bd8a-a405f6085291",
   "metadata": {},
   "outputs": [
    {
     "data": {
      "text/plain": [
       "array([[3, 3, 2, 2],\n",
       "       [4, 4, 4, 4],\n",
       "       [3, 3, 3, 4]])"
      ]
     },
     "execution_count": 385,
     "metadata": {},
     "output_type": "execute_result"
    }
   ],
   "source": [
    "arr1 = np.random.randint(2,5,(3,4))\n",
    "arr1"
   ]
  },
  {
   "cell_type": "code",
   "execution_count": 386,
   "id": "4169ebad-ba07-4575-bd3c-3c8508b2d0b1",
   "metadata": {},
   "outputs": [
    {
     "data": {
      "text/plain": [
       "array([[ 0.14112001,  0.14112001,  0.90929743,  0.90929743],\n",
       "       [-0.7568025 , -0.7568025 , -0.7568025 , -0.7568025 ],\n",
       "       [ 0.14112001,  0.14112001,  0.14112001, -0.7568025 ]])"
      ]
     },
     "execution_count": 386,
     "metadata": {},
     "output_type": "execute_result"
    }
   ],
   "source": [
    "np.sin(arr1)"
   ]
  },
  {
   "cell_type": "code",
   "execution_count": 387,
   "id": "39940af7-8b32-46d5-83a1-c0e74adf0617",
   "metadata": {},
   "outputs": [
    {
     "data": {
      "text/plain": [
       "array([[-0.9899925 , -0.9899925 , -0.41614684, -0.41614684],\n",
       "       [-0.65364362, -0.65364362, -0.65364362, -0.65364362],\n",
       "       [-0.9899925 , -0.9899925 , -0.9899925 , -0.65364362]])"
      ]
     },
     "execution_count": 387,
     "metadata": {},
     "output_type": "execute_result"
    }
   ],
   "source": [
    "np.cos(arr1)"
   ]
  },
  {
   "cell_type": "code",
   "execution_count": 388,
   "id": "9bb9aac2-8002-436b-a18b-e4c0bc96ecf7",
   "metadata": {},
   "outputs": [
    {
     "data": {
      "text/plain": [
       "array([[-0.14254654, -0.14254654, -2.18503986, -2.18503986],\n",
       "       [ 1.15782128,  1.15782128,  1.15782128,  1.15782128],\n",
       "       [-0.14254654, -0.14254654, -0.14254654,  1.15782128]])"
      ]
     },
     "execution_count": 388,
     "metadata": {},
     "output_type": "execute_result"
    }
   ],
   "source": [
    "np.tan(arr1)"
   ]
  },
  {
   "cell_type": "code",
   "execution_count": 389,
   "id": "d2f5d97d-ef83-4488-b9dc-99adbb073fba",
   "metadata": {},
   "outputs": [
    {
     "data": {
      "text/plain": [
       "array([[0.47712125, 0.47712125, 0.30103   , 0.30103   ],\n",
       "       [0.60205999, 0.60205999, 0.60205999, 0.60205999],\n",
       "       [0.47712125, 0.47712125, 0.47712125, 0.60205999]])"
      ]
     },
     "execution_count": 389,
     "metadata": {},
     "output_type": "execute_result"
    }
   ],
   "source": [
    "np.log10(arr1)"
   ]
  },
  {
   "cell_type": "code",
   "execution_count": 390,
   "id": "6813f39a-acd5-4900-88a5-6c3d5d86d69b",
   "metadata": {},
   "outputs": [
    {
     "data": {
      "text/plain": [
       "array([[20.08553692, 20.08553692,  7.3890561 ,  7.3890561 ],\n",
       "       [54.59815003, 54.59815003, 54.59815003, 54.59815003],\n",
       "       [20.08553692, 20.08553692, 20.08553692, 54.59815003]])"
      ]
     },
     "execution_count": 390,
     "metadata": {},
     "output_type": "execute_result"
    }
   ],
   "source": [
    "np.exp(arr1)"
   ]
  },
  {
   "cell_type": "code",
   "execution_count": 391,
   "id": "c65d3776-388f-48ca-b146-179356e33233",
   "metadata": {},
   "outputs": [
    {
     "data": {
      "text/plain": [
       "np.int64(2)"
      ]
     },
     "execution_count": 391,
     "metadata": {},
     "output_type": "execute_result"
    }
   ],
   "source": [
    "np.min(arr1)"
   ]
  },
  {
   "cell_type": "code",
   "execution_count": 392,
   "id": "71b967ae-9830-464f-861b-9c849db28d81",
   "metadata": {},
   "outputs": [
    {
     "data": {
      "text/plain": [
       "np.float64(3.25)"
      ]
     },
     "execution_count": 392,
     "metadata": {},
     "output_type": "execute_result"
    }
   ],
   "source": [
    "np.mean(arr1)"
   ]
  },
  {
   "cell_type": "code",
   "execution_count": 393,
   "id": "bd8f1e2a-7ff4-47e9-8cd6-e7b7c346b6eb",
   "metadata": {},
   "outputs": [
    {
     "data": {
      "text/plain": [
       "np.float64(0.7216878364870323)"
      ]
     },
     "execution_count": 393,
     "metadata": {},
     "output_type": "execute_result"
    }
   ],
   "source": [
    "np.std(arr1)"
   ]
  },
  {
   "cell_type": "code",
   "execution_count": 399,
   "id": "bcd89f85-3f4a-4152-b144-263c676ec8c3",
   "metadata": {},
   "outputs": [
    {
     "data": {
      "text/plain": [
       "(array([[2, 4, 4, 4],\n",
       "        [4, 4, 4, 4],\n",
       "        [2, 3, 2, 4]]),\n",
       " array([[2, 3, 4, 2],\n",
       "        [4, 3, 4, 4],\n",
       "        [2, 4, 2, 2]]))"
      ]
     },
     "execution_count": 399,
     "metadata": {},
     "output_type": "execute_result"
    }
   ],
   "source": [
    "arr1 = np.random.randint(2,5,(3,4))\n",
    "arr2 = np.random.randint(2,5,(3,4))\n",
    "arr1,arr2"
   ]
  },
  {
   "cell_type": "code",
   "execution_count": 396,
   "id": "10252e0a-7156-4c3d-8622-af2e986c4a84",
   "metadata": {},
   "outputs": [
    {
     "data": {
      "text/plain": [
       "array([[ 4,  4,  6, 12],\n",
       "       [12, 12,  8,  8],\n",
       "       [12,  8,  4,  6]])"
      ]
     },
     "execution_count": 396,
     "metadata": {},
     "output_type": "execute_result"
    }
   ],
   "source": [
    "arr1 * arr2"
   ]
  },
  {
   "cell_type": "code",
   "execution_count": 398,
   "id": "95359cf6-0de9-42ca-9a03-b245ca1e3425",
   "metadata": {},
   "outputs": [
    {
     "data": {
      "text/plain": [
       "array([[ 4,  4,  6, 12],\n",
       "       [12, 12,  8,  8],\n",
       "       [12,  8,  4,  6]])"
      ]
     },
     "execution_count": 398,
     "metadata": {},
     "output_type": "execute_result"
    }
   ],
   "source": [
    "np.multiply(arr1,arr2)"
   ]
  },
  {
   "cell_type": "code",
   "execution_count": 400,
   "id": "2313d211-d9f0-4823-90ae-dc4193aebda3",
   "metadata": {},
   "outputs": [
    {
     "data": {
      "text/plain": [
       "array([[4, 8, 8, 8],\n",
       "       [8, 8, 8, 8],\n",
       "       [4, 6, 4, 8]])"
      ]
     },
     "execution_count": 400,
     "metadata": {},
     "output_type": "execute_result"
    }
   ],
   "source": [
    "np.multiply(arr1,2)"
   ]
  },
  {
   "cell_type": "code",
   "execution_count": 401,
   "id": "749783e2-cb1b-4777-bb8e-13aaaa932ef3",
   "metadata": {},
   "outputs": [
    {
     "data": {
      "text/plain": [
       "array([[1.41421356, 2.        , 2.        , 2.        ],\n",
       "       [2.        , 2.        , 2.        , 2.        ],\n",
       "       [1.41421356, 1.73205081, 1.41421356, 2.        ]])"
      ]
     },
     "execution_count": 401,
     "metadata": {},
     "output_type": "execute_result"
    }
   ],
   "source": [
    "np.sqrt(arr1)"
   ]
  },
  {
   "cell_type": "code",
   "execution_count": 402,
   "id": "45a41110-c1ce-4266-8a91-958edd2421f8",
   "metadata": {},
   "outputs": [
    {
     "data": {
      "text/plain": [
       "array([[ 4, 16, 16, 16],\n",
       "       [16, 16, 16, 16],\n",
       "       [ 4,  9,  4, 16]])"
      ]
     },
     "execution_count": 402,
     "metadata": {},
     "output_type": "execute_result"
    }
   ],
   "source": [
    "np.square(arr1)"
   ]
  },
  {
   "cell_type": "code",
   "execution_count": 403,
   "id": "ba695a38-fe19-4a4e-a808-6f8aed293abb",
   "metadata": {},
   "outputs": [
    {
     "data": {
      "text/plain": [
       "array([5, 8, 3, 2])"
      ]
     },
     "execution_count": 403,
     "metadata": {},
     "output_type": "execute_result"
    }
   ],
   "source": [
    "#sorting and searching in numpy\n",
    "r = np.array([5,8,3,2])\n",
    "r"
   ]
  },
  {
   "cell_type": "code",
   "execution_count": 404,
   "id": "3f90fd45-1aec-4dd4-999b-0aa12e36aa90",
   "metadata": {},
   "outputs": [
    {
     "data": {
      "text/plain": [
       "array([2, 3, 5, 8])"
      ]
     },
     "execution_count": 404,
     "metadata": {},
     "output_type": "execute_result"
    }
   ],
   "source": [
    "np.sort(r)"
   ]
  },
  {
   "cell_type": "code",
   "execution_count": 409,
   "id": "57ee94ae-35b2-4e01-a09a-a936cacbc3af",
   "metadata": {},
   "outputs": [
    {
     "data": {
      "text/plain": [
       "np.int64(4)"
      ]
     },
     "execution_count": 409,
     "metadata": {},
     "output_type": "execute_result"
    }
   ],
   "source": [
    "f = np.searchsorted(r,4) #Find indices where elements should be inserted to maintain order.\n",
    "f"
   ]
  },
  {
   "cell_type": "code",
   "execution_count": 412,
   "id": "ff16df6c-b530-41a0-b333-c0e896be14e7",
   "metadata": {},
   "outputs": [
    {
     "data": {
      "text/plain": [
       "4"
      ]
     },
     "execution_count": 412,
     "metadata": {},
     "output_type": "execute_result"
    }
   ],
   "source": [
    "np.count_nonzero(r)"
   ]
  },
  {
   "cell_type": "code",
   "execution_count": 413,
   "id": "14d78e22-746e-4371-91db-daff9c649b94",
   "metadata": {},
   "outputs": [],
   "source": [
    "import numpy.matlib as nm"
   ]
  },
  {
   "cell_type": "code",
   "execution_count": 415,
   "id": "10fa2aed-4331-46cd-be4a-4d839acc3d40",
   "metadata": {},
   "outputs": [
    {
     "data": {
      "text/plain": [
       "matrix([[0, 0, 0, 0, 0]])"
      ]
     },
     "execution_count": 415,
     "metadata": {},
     "output_type": "execute_result"
    }
   ],
   "source": [
    "nm.zeros(5, dtype = int)"
   ]
  },
  {
   "cell_type": "code",
   "execution_count": 419,
   "id": "d9e72546-8565-40fd-aa55-4c7cdb2f32e6",
   "metadata": {},
   "outputs": [
    {
     "data": {
      "text/plain": [
       "array([[1, 1, 1],\n",
       "       [1, 1, 1],\n",
       "       [1, 1, 1]])"
      ]
     },
     "execution_count": 419,
     "metadata": {},
     "output_type": "execute_result"
    }
   ],
   "source": [
    "#in matrix you cannot devide by another matrix \n",
    "arr1 = np.random.randint(1,2,(3,3))\n",
    "arr1\n"
   ]
  },
  {
   "cell_type": "code",
   "execution_count": 420,
   "id": "c086becf-b65d-4072-af3b-7c3a91331d29",
   "metadata": {},
   "outputs": [
    {
     "data": {
      "text/plain": [
       "np.float64(0.0)"
      ]
     },
     "execution_count": 420,
     "metadata": {},
     "output_type": "execute_result"
    }
   ],
   "source": [
    "np.linalg.det(arr1)"
   ]
  },
  {
   "cell_type": "code",
   "execution_count": 431,
   "id": "532c2005-67df-488f-adc4-6c2bcc16316f",
   "metadata": {},
   "outputs": [
    {
     "name": "stdout",
     "output_type": "stream",
     "text": [
      "[[-0.07692308  0.26923077]\n",
      " [ 0.15384615 -0.03846154]]\n"
     ]
    }
   ],
   "source": [
    "#Compute the inverse of a matrix.\n",
    "import numpy as np\n",
    "from numpy.linalg import inv, det\n",
    "\n",
    "#create 2x2 matrix that is not singular\n",
    "my_matrix = np.array([[1., 7.], [4., 2.]])\n",
    "\n",
    "\n",
    "#calculate inverse of matrix\n",
    "print(inv(my_matrix))\n"
   ]
  },
  {
   "cell_type": "code",
   "execution_count": null,
   "id": "4d9167d9-7155-4b5c-9f9c-a16dd905509f",
   "metadata": {},
   "outputs": [],
   "source": []
  }
 ],
 "metadata": {
  "kernelspec": {
   "display_name": "Python 3 (ipykernel)",
   "language": "python",
   "name": "python3"
  },
  "language_info": {
   "codemirror_mode": {
    "name": "ipython",
    "version": 3
   },
   "file_extension": ".py",
   "mimetype": "text/x-python",
   "name": "python",
   "nbconvert_exporter": "python",
   "pygments_lexer": "ipython3",
   "version": "3.12.7"
  }
 },
 "nbformat": 4,
 "nbformat_minor": 5
}
